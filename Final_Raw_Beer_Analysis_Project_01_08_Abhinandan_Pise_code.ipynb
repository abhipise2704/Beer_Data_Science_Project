{
 "cells": [
  {
   "cell_type": "markdown",
   "metadata": {},
   "source": [
    "# Take Home Assignment: <br> <br> **` Beer Data Science Project `**\n",
    "### Name: `Abhinandan Pise`\n",
    "### emailID: `abhipise5321@gmail.com`"
   ]
  },
  {
   "cell_type": "markdown",
   "metadata": {},
   "source": [
    "<img src=\"Table_of_Content.png\">"
   ]
  },
  {
   "cell_type": "markdown",
   "metadata": {},
   "source": [
    "<img src=\"Table_of_Content_2.png\">"
   ]
  },
  {
   "cell_type": "markdown",
   "metadata": {},
   "source": [
    "# 1: Basic Preprocessing & Data Cleaning"
   ]
  },
  {
   "cell_type": "code",
   "execution_count": 1,
   "metadata": {},
   "outputs": [],
   "source": [
    "import warnings\n",
    "warnings.filterwarnings(\"ignore\")\n",
    "import numpy as np\n",
    "import pandas as pd\n",
    "import seaborn as sns\n",
    "import matplotlib.pyplot as plt\n",
    "import seaborn as sns"
   ]
  },
  {
   "cell_type": "markdown",
   "metadata": {},
   "source": [
    "## 1.1: Data Reading using Pandas DataFrame"
   ]
  },
  {
   "cell_type": "code",
   "execution_count": 2,
   "metadata": {},
   "outputs": [],
   "source": [
    "data=pd.read_csv('BeerDataScienceProject.csv',encoding='latin-1')"
   ]
  },
  {
   "cell_type": "code",
   "execution_count": 3,
   "metadata": {
    "scrolled": true
   },
   "outputs": [
    {
     "data": {
      "text/html": [
       "<div>\n",
       "<style scoped>\n",
       "    .dataframe tbody tr th:only-of-type {\n",
       "        vertical-align: middle;\n",
       "    }\n",
       "\n",
       "    .dataframe tbody tr th {\n",
       "        vertical-align: top;\n",
       "    }\n",
       "\n",
       "    .dataframe thead th {\n",
       "        text-align: right;\n",
       "    }\n",
       "</style>\n",
       "<table border=\"1\" class=\"dataframe\">\n",
       "  <thead>\n",
       "    <tr style=\"text-align: right;\">\n",
       "      <th></th>\n",
       "      <th>beer_ABV</th>\n",
       "      <th>beer_beerId</th>\n",
       "      <th>beer_brewerId</th>\n",
       "      <th>beer_name</th>\n",
       "      <th>beer_style</th>\n",
       "      <th>review_appearance</th>\n",
       "      <th>review_palette</th>\n",
       "      <th>review_overall</th>\n",
       "      <th>review_taste</th>\n",
       "      <th>review_profileName</th>\n",
       "      <th>review_aroma</th>\n",
       "      <th>review_text</th>\n",
       "      <th>review_time</th>\n",
       "    </tr>\n",
       "  </thead>\n",
       "  <tbody>\n",
       "    <tr>\n",
       "      <th>0</th>\n",
       "      <td>5.0</td>\n",
       "      <td>47986</td>\n",
       "      <td>10325</td>\n",
       "      <td>Sausa Weizen</td>\n",
       "      <td>Hefeweizen</td>\n",
       "      <td>2.5</td>\n",
       "      <td>2.0</td>\n",
       "      <td>1.5</td>\n",
       "      <td>1.5</td>\n",
       "      <td>stcules</td>\n",
       "      <td>1.5</td>\n",
       "      <td>A lot of foam. But a lot. In the smell some ba...</td>\n",
       "      <td>1234817823</td>\n",
       "    </tr>\n",
       "    <tr>\n",
       "      <th>1</th>\n",
       "      <td>6.2</td>\n",
       "      <td>48213</td>\n",
       "      <td>10325</td>\n",
       "      <td>Red Moon</td>\n",
       "      <td>English Strong Ale</td>\n",
       "      <td>3.0</td>\n",
       "      <td>2.5</td>\n",
       "      <td>3.0</td>\n",
       "      <td>3.0</td>\n",
       "      <td>stcules</td>\n",
       "      <td>3.0</td>\n",
       "      <td>Dark red color, light beige foam, average. In ...</td>\n",
       "      <td>1235915097</td>\n",
       "    </tr>\n",
       "  </tbody>\n",
       "</table>\n",
       "</div>"
      ],
      "text/plain": [
       "   beer_ABV  beer_beerId  beer_brewerId     beer_name          beer_style  \\\n",
       "0       5.0        47986          10325  Sausa Weizen          Hefeweizen   \n",
       "1       6.2        48213          10325      Red Moon  English Strong Ale   \n",
       "\n",
       "   review_appearance  review_palette  review_overall  review_taste  \\\n",
       "0                2.5             2.0             1.5           1.5   \n",
       "1                3.0             2.5             3.0           3.0   \n",
       "\n",
       "  review_profileName  review_aroma  \\\n",
       "0            stcules           1.5   \n",
       "1            stcules           3.0   \n",
       "\n",
       "                                         review_text  review_time  \n",
       "0  A lot of foam. But a lot. In the smell some ba...   1234817823  \n",
       "1  Dark red color, light beige foam, average. In ...   1235915097  "
      ]
     },
     "execution_count": 3,
     "metadata": {},
     "output_type": "execute_result"
    }
   ],
   "source": [
    "data.head(2)"
   ]
  },
  {
   "cell_type": "markdown",
   "metadata": {},
   "source": [
    "## 1.2: Number Datapoints & Columns in the Dataset"
   ]
  },
  {
   "cell_type": "code",
   "execution_count": 4,
   "metadata": {},
   "outputs": [
    {
     "name": "stdout",
     "output_type": "stream",
     "text": [
      "==================================================\n",
      "Number of rows or Datapoints in the Datasets: 528870\n",
      "--------------------------------------------------\n",
      "number of clumns in the datasets:  13\n",
      "==================================================\n"
     ]
    }
   ],
   "source": [
    "print(\"=\"*50)\n",
    "print(\"Number of rows or Datapoints in the Datasets:\",data.shape[0])\n",
    "print(\"-\"*50)\n",
    "print(\"number of clumns in the datasets: \", data.shape[1])\n",
    "print(\"=\"*50)"
   ]
  },
  {
   "cell_type": "markdown",
   "metadata": {},
   "source": [
    "## 1.3: Colmuns Names & Datatype of Columns"
   ]
  },
  {
   "cell_type": "code",
   "execution_count": 5,
   "metadata": {},
   "outputs": [
    {
     "data": {
      "text/plain": [
       "Index(['beer_ABV', 'beer_beerId', 'beer_brewerId', 'beer_name', 'beer_style',\n",
       "       'review_appearance', 'review_palette', 'review_overall', 'review_taste',\n",
       "       'review_profileName', 'review_aroma', 'review_text', 'review_time'],\n",
       "      dtype='object')"
      ]
     },
     "execution_count": 5,
     "metadata": {},
     "output_type": "execute_result"
    }
   ],
   "source": [
    "data.columns"
   ]
  },
  {
   "cell_type": "code",
   "execution_count": 6,
   "metadata": {},
   "outputs": [
    {
     "data": {
      "text/plain": [
       "beer_ABV              float64\n",
       "beer_beerId             int64\n",
       "beer_brewerId           int64\n",
       "beer_name              object\n",
       "beer_style             object\n",
       "review_appearance     float64\n",
       "review_palette        float64\n",
       "review_overall        float64\n",
       "review_taste          float64\n",
       "review_profileName     object\n",
       "review_aroma          float64\n",
       "review_text            object\n",
       "review_time             int64\n",
       "dtype: object"
      ]
     },
     "execution_count": 6,
     "metadata": {},
     "output_type": "execute_result"
    }
   ],
   "source": [
    "data.dtypes"
   ]
  },
  {
   "cell_type": "markdown",
   "metadata": {},
   "source": [
    "## 1.4: Null Value Check  & Missing Value Imputation "
   ]
  },
  {
   "cell_type": "code",
   "execution_count": 7,
   "metadata": {},
   "outputs": [
    {
     "name": "stdout",
     "output_type": "stream",
     "text": [
      "==================================================\n",
      "Null values in the Dataset(Percentage):\n",
      "--------------------------------------------------\n",
      "beer_ABV              3.834591\n",
      "beer_beerId           0.000000\n",
      "beer_brewerId         0.000000\n",
      "beer_name             0.000000\n",
      "beer_style            0.000000\n",
      "review_appearance     0.000000\n",
      "review_palette        0.000000\n",
      "review_overall        0.000000\n",
      "review_taste          0.000000\n",
      "review_profileName    0.021744\n",
      "review_aroma          0.000000\n",
      "review_text           0.022501\n",
      "review_time           0.000000\n",
      "dtype: float64\n",
      "==================================================\n"
     ]
    }
   ],
   "source": [
    "print(\"=\"*50)\n",
    "print(\"Null values in the Dataset(Percentage):\")\n",
    "print(\"-\"*50)\n",
    "print(data.isnull().sum()/len(data)*100)\n",
    "print(\"=\"*50)"
   ]
  },
  {
   "cell_type": "code",
   "execution_count": 8,
   "metadata": {},
   "outputs": [
    {
     "name": "stdout",
     "output_type": "stream",
     "text": [
      "================================================================================\n",
      "Mean Value of Feature beer_ABV(Alcohol by Volume): 7.017441593423365\n",
      "--------------------------------------------------------------------------------\n",
      "Mean Value of Feature beer_ABV(Alcohol by Volume): 6.5\n",
      "================================================================================\n"
     ]
    }
   ],
   "source": [
    "print(\"=\"*80)\n",
    "print(\"Mean Value of Feature beer_ABV(Alcohol by Volume):\",data['beer_ABV'].mean())\n",
    "print(\"-\"*80)\n",
    "print(\"Mean Value of Feature beer_ABV(Alcohol by Volume):\",data['beer_ABV'].median())\n",
    "print(\"=\"*80)"
   ]
  },
  {
   "cell_type": "code",
   "execution_count": 9,
   "metadata": {},
   "outputs": [],
   "source": [
    "#Mean Value Impute the Beer_ABV Feature\n",
    "beer_ABV_mean=data['beer_ABV'].mean()\n",
    "\n",
    "data['beer_ABV'].fillna(value=beer_ABV_mean,inplace=True)"
   ]
  },
  {
   "cell_type": "code",
   "execution_count": 10,
   "metadata": {},
   "outputs": [],
   "source": [
    "data.dropna(inplace=True)"
   ]
  },
  {
   "cell_type": "code",
   "execution_count": 11,
   "metadata": {},
   "outputs": [
    {
     "name": "stdout",
     "output_type": "stream",
     "text": [
      "==================================================\n",
      "Null values in the Dataset(Percentage):\n",
      "--------------------------------------------------\n",
      "beer_ABV              0.0\n",
      "beer_beerId           0.0\n",
      "beer_brewerId         0.0\n",
      "beer_name             0.0\n",
      "beer_style            0.0\n",
      "review_appearance     0.0\n",
      "review_palette        0.0\n",
      "review_overall        0.0\n",
      "review_taste          0.0\n",
      "review_profileName    0.0\n",
      "review_aroma          0.0\n",
      "review_text           0.0\n",
      "review_time           0.0\n",
      "dtype: float64\n",
      "==================================================\n"
     ]
    }
   ],
   "source": [
    "print(\"=\"*50)\n",
    "print(\"Null values in the Dataset(Percentage):\")\n",
    "print(\"-\"*50)\n",
    "print(data.isnull().sum()/len(data)*100)\n",
    "print(\"=\"*50)"
   ]
  },
  {
   "cell_type": "markdown",
   "metadata": {},
   "source": [
    "<font color=blue>*__OBSERVATION:__*<br>\n",
    "From Above Analysis,<br>\n",
    "1. As There are 3.83% Values Missing in the Beer_ABV Column that are replaced by the mean of colmun <br>\n",
    "2. Features like 'review_profileName' & \"review_text\" Very low Percentage missing values so dropped (row droppped) <br> \n",
    "</font>"
   ]
  },
  {
   "cell_type": "markdown",
   "metadata": {},
   "source": [
    "# 2: Exploratary Data Analysis & Data Visualization "
   ]
  },
  {
   "cell_type": "markdown",
   "metadata": {},
   "source": [
    "## 2.1: Basic Statistics of all the Features"
   ]
  },
  {
   "cell_type": "code",
   "execution_count": 12,
   "metadata": {},
   "outputs": [
    {
     "data": {
      "text/html": [
       "<div>\n",
       "<style scoped>\n",
       "    .dataframe tbody tr th:only-of-type {\n",
       "        vertical-align: middle;\n",
       "    }\n",
       "\n",
       "    .dataframe tbody tr th {\n",
       "        vertical-align: top;\n",
       "    }\n",
       "\n",
       "    .dataframe thead th {\n",
       "        text-align: right;\n",
       "    }\n",
       "</style>\n",
       "<table border=\"1\" class=\"dataframe\">\n",
       "  <thead>\n",
       "    <tr style=\"text-align: right;\">\n",
       "      <th></th>\n",
       "      <th>count</th>\n",
       "      <th>mean</th>\n",
       "      <th>std</th>\n",
       "      <th>min</th>\n",
       "      <th>25%</th>\n",
       "      <th>50%</th>\n",
       "      <th>75%</th>\n",
       "      <th>max</th>\n",
       "    </tr>\n",
       "  </thead>\n",
       "  <tbody>\n",
       "    <tr>\n",
       "      <th>beer_ABV</th>\n",
       "      <td>528636.0</td>\n",
       "      <td>7.017402e+00</td>\n",
       "      <td>2.161832e+00</td>\n",
       "      <td>1.000000e-02</td>\n",
       "      <td>5.300000e+00</td>\n",
       "      <td>6.500000e+00</td>\n",
       "      <td>8.500000e+00</td>\n",
       "      <td>5.770000e+01</td>\n",
       "    </tr>\n",
       "    <tr>\n",
       "      <th>beer_beerId</th>\n",
       "      <td>528636.0</td>\n",
       "      <td>2.210187e+04</td>\n",
       "      <td>2.215998e+04</td>\n",
       "      <td>3.000000e+00</td>\n",
       "      <td>1.745000e+03</td>\n",
       "      <td>1.437800e+04</td>\n",
       "      <td>4.052800e+04</td>\n",
       "      <td>7.731000e+04</td>\n",
       "    </tr>\n",
       "    <tr>\n",
       "      <th>beer_brewerId</th>\n",
       "      <td>528636.0</td>\n",
       "      <td>2.598903e+03</td>\n",
       "      <td>5.282495e+03</td>\n",
       "      <td>1.000000e+00</td>\n",
       "      <td>1.320000e+02</td>\n",
       "      <td>3.940000e+02</td>\n",
       "      <td>1.475000e+03</td>\n",
       "      <td>2.798000e+04</td>\n",
       "    </tr>\n",
       "    <tr>\n",
       "      <th>review_appearance</th>\n",
       "      <td>528636.0</td>\n",
       "      <td>3.864509e+00</td>\n",
       "      <td>6.039861e-01</td>\n",
       "      <td>0.000000e+00</td>\n",
       "      <td>3.500000e+00</td>\n",
       "      <td>4.000000e+00</td>\n",
       "      <td>4.000000e+00</td>\n",
       "      <td>5.000000e+00</td>\n",
       "    </tr>\n",
       "    <tr>\n",
       "      <th>review_palette</th>\n",
       "      <td>528636.0</td>\n",
       "      <td>3.758944e+00</td>\n",
       "      <td>6.852722e-01</td>\n",
       "      <td>1.000000e+00</td>\n",
       "      <td>3.500000e+00</td>\n",
       "      <td>4.000000e+00</td>\n",
       "      <td>4.000000e+00</td>\n",
       "      <td>5.000000e+00</td>\n",
       "    </tr>\n",
       "    <tr>\n",
       "      <th>review_overall</th>\n",
       "      <td>528636.0</td>\n",
       "      <td>3.833179e+00</td>\n",
       "      <td>7.099392e-01</td>\n",
       "      <td>0.000000e+00</td>\n",
       "      <td>3.500000e+00</td>\n",
       "      <td>4.000000e+00</td>\n",
       "      <td>4.500000e+00</td>\n",
       "      <td>5.000000e+00</td>\n",
       "    </tr>\n",
       "    <tr>\n",
       "      <th>review_taste</th>\n",
       "      <td>528636.0</td>\n",
       "      <td>3.765985e+00</td>\n",
       "      <td>6.689742e-01</td>\n",
       "      <td>1.000000e+00</td>\n",
       "      <td>3.500000e+00</td>\n",
       "      <td>4.000000e+00</td>\n",
       "      <td>4.000000e+00</td>\n",
       "      <td>5.000000e+00</td>\n",
       "    </tr>\n",
       "    <tr>\n",
       "      <th>review_aroma</th>\n",
       "      <td>528636.0</td>\n",
       "      <td>3.817346e+00</td>\n",
       "      <td>7.188361e-01</td>\n",
       "      <td>1.000000e+00</td>\n",
       "      <td>3.500000e+00</td>\n",
       "      <td>4.000000e+00</td>\n",
       "      <td>4.500000e+00</td>\n",
       "      <td>5.000000e+00</td>\n",
       "    </tr>\n",
       "    <tr>\n",
       "      <th>review_time</th>\n",
       "      <td>528636.0</td>\n",
       "      <td>1.224890e+09</td>\n",
       "      <td>7.605932e+07</td>\n",
       "      <td>8.843904e+08</td>\n",
       "      <td>1.174617e+09</td>\n",
       "      <td>1.240371e+09</td>\n",
       "      <td>1.288564e+09</td>\n",
       "      <td>1.326277e+09</td>\n",
       "    </tr>\n",
       "  </tbody>\n",
       "</table>\n",
       "</div>"
      ],
      "text/plain": [
       "                      count          mean           std           min  \\\n",
       "beer_ABV           528636.0  7.017402e+00  2.161832e+00  1.000000e-02   \n",
       "beer_beerId        528636.0  2.210187e+04  2.215998e+04  3.000000e+00   \n",
       "beer_brewerId      528636.0  2.598903e+03  5.282495e+03  1.000000e+00   \n",
       "review_appearance  528636.0  3.864509e+00  6.039861e-01  0.000000e+00   \n",
       "review_palette     528636.0  3.758944e+00  6.852722e-01  1.000000e+00   \n",
       "review_overall     528636.0  3.833179e+00  7.099392e-01  0.000000e+00   \n",
       "review_taste       528636.0  3.765985e+00  6.689742e-01  1.000000e+00   \n",
       "review_aroma       528636.0  3.817346e+00  7.188361e-01  1.000000e+00   \n",
       "review_time        528636.0  1.224890e+09  7.605932e+07  8.843904e+08   \n",
       "\n",
       "                            25%           50%           75%           max  \n",
       "beer_ABV           5.300000e+00  6.500000e+00  8.500000e+00  5.770000e+01  \n",
       "beer_beerId        1.745000e+03  1.437800e+04  4.052800e+04  7.731000e+04  \n",
       "beer_brewerId      1.320000e+02  3.940000e+02  1.475000e+03  2.798000e+04  \n",
       "review_appearance  3.500000e+00  4.000000e+00  4.000000e+00  5.000000e+00  \n",
       "review_palette     3.500000e+00  4.000000e+00  4.000000e+00  5.000000e+00  \n",
       "review_overall     3.500000e+00  4.000000e+00  4.500000e+00  5.000000e+00  \n",
       "review_taste       3.500000e+00  4.000000e+00  4.000000e+00  5.000000e+00  \n",
       "review_aroma       3.500000e+00  4.000000e+00  4.500000e+00  5.000000e+00  \n",
       "review_time        1.174617e+09  1.240371e+09  1.288564e+09  1.326277e+09  "
      ]
     },
     "execution_count": 12,
     "metadata": {},
     "output_type": "execute_result"
    }
   ],
   "source": [
    "data.describe().T "
   ]
  },
  {
   "cell_type": "code",
   "execution_count": 13,
   "metadata": {},
   "outputs": [
    {
     "data": {
      "text/plain": [
       "Index(['beer_ABV', 'beer_beerId', 'beer_brewerId', 'beer_name', 'beer_style',\n",
       "       'review_appearance', 'review_palette', 'review_overall', 'review_taste',\n",
       "       'review_profileName', 'review_aroma', 'review_text', 'review_time'],\n",
       "      dtype='object')"
      ]
     },
     "execution_count": 13,
     "metadata": {},
     "output_type": "execute_result"
    }
   ],
   "source": [
    "data.columns"
   ]
  },
  {
   "cell_type": "markdown",
   "metadata": {},
   "source": [
    "## 2.2: Distribution  of the  Features & Its Visualizaiton "
   ]
  },
  {
   "cell_type": "code",
   "execution_count": 14,
   "metadata": {},
   "outputs": [
    {
     "data": {
      "text/plain": [
       "Text(0.5, 0, 'beer_ABV(Alcohol by Volume)')"
      ]
     },
     "execution_count": 14,
     "metadata": {},
     "output_type": "execute_result"
    },
    {
     "data": {
      "image/png": "[encoded data removed]",
      "text/plain": [
       "<Figure size 720x432 with 1 Axes>"
      ]
     },
     "metadata": {
      "needs_background": "light"
     },
     "output_type": "display_data"
    }
   ],
   "source": [
    "plt.figure(figsize=(10,6))\n",
    "sns.set_style(\"whitegrid\")\n",
    "sns.distplot(a=data['beer_ABV'],color=\"r\")\n",
    "plt.title(\"Distribution plot of beer_ABV\",fontsize=18)\n",
    "plt.xlabel(f\"beer_ABV(Alcohol by Volume)\",fontsize='15')"
   ]
  },
  {
   "cell_type": "markdown",
   "metadata": {},
   "source": [
    "<font color=blue>*__OBSERVATION:__*<br>\n",
    "From Above Distribution Plot Analysis,<br>\n",
    "1. BeerABV: Disribution is right Skewed so we can say there are outlier towards the extreme positive values <br>\n",
    "</font>"
   ]
  },
  {
   "cell_type": "code",
   "execution_count": 15,
   "metadata": {},
   "outputs": [
    {
     "name": "stdout",
     "output_type": "stream",
     "text": [
      "==================================================\n",
      "Value counts(%) for the feature review_appearance:\n",
      "--------------------------------------------------\n",
      "4.0    42.750777\n",
      "3.5    19.615577\n",
      "4.5    19.008732\n",
      "3.0    10.054934\n",
      "5.0     4.367277\n",
      "2.5     2.318230\n",
      "2.0     1.420448\n",
      "1.5     0.305692\n",
      "1.0     0.157765\n",
      "0.0     0.000567\n",
      "Name: review_appearance, dtype: float64\n",
      "==================================================\n",
      "==================================================\n",
      "Value counts(%) for the feature review_palette:\n",
      "--------------------------------------------------\n",
      "4.0    35.640214\n",
      "3.5    22.710523\n",
      "4.5    17.756831\n",
      "3.0    12.217859\n",
      "5.0     4.219160\n",
      "2.5     3.957354\n",
      "2.0     2.461618\n",
      "1.5     0.677025\n",
      "1.0     0.359416\n",
      "Name: review_palette, dtype: float64\n",
      "==================================================\n",
      "==================================================\n",
      "Value counts(%) for the feature review_overall:\n",
      "--------------------------------------------------\n",
      "4.0    37.165649\n",
      "4.5    20.974357\n",
      "3.5    18.702472\n",
      "3.0    10.153868\n",
      "5.0     5.864338\n",
      "2.5     3.503923\n",
      "2.0     2.256373\n",
      "1.5     0.755529\n",
      "1.0     0.622924\n",
      "0.0     0.000567\n",
      "Name: review_overall, dtype: float64\n",
      "==================================================\n",
      "==================================================\n",
      "Value counts(%) for the feature review_taste:\n",
      "--------------------------------------------------\n",
      "4.0    38.944945\n",
      "3.5    20.991382\n",
      "4.5    16.433425\n",
      "3.0    12.656913\n",
      "5.0     4.091095\n",
      "2.5     3.713708\n",
      "2.0     2.218540\n",
      "1.5     0.601926\n",
      "1.0     0.348066\n",
      "Name: review_taste, dtype: float64\n",
      "==================================================\n",
      "==================================================\n",
      "Value counts(%) for the feature review_aroma:\n",
      "--------------------------------------------------\n",
      "4.0    34.475707\n",
      "4.5    22.018175\n",
      "3.5    20.087546\n",
      "3.0    10.113954\n",
      "5.0     5.486384\n",
      "2.5     3.981000\n",
      "2.0     2.459727\n",
      "1.5     0.840654\n",
      "1.0     0.536853\n",
      "Name: review_aroma, dtype: float64\n",
      "==================================================\n"
     ]
    }
   ],
   "source": [
    "reviews_all_f=['review_appearance','review_palette',\n",
    "          'review_overall','review_taste',\n",
    "          'review_aroma']\n",
    "for i in reviews_all_f:\n",
    "    print(\"=\"*50)\n",
    "    print(f\"Value counts(%) for the feature {i}:\")\n",
    "    print(\"-\"*50)\n",
    "    print(data[i].value_counts(normalize=True)*100)\n",
    "    print(\"=\"*50)"
   ]
  },
  {
   "cell_type": "markdown",
   "metadata": {},
   "source": [
    "<font color=blue>*__OBSERVATION:__*<br>\n",
    "From Above  Analysis,<br>\n",
    "1. All Reviews:  Review number 4 is got the most % share in all reviews  <br>\n",
    "</font>"
   ]
  },
  {
   "cell_type": "code",
   "execution_count": 16,
   "metadata": {
    "scrolled": false
   },
   "outputs": [
    {
     "data": {
      "image/png": "[encoded data removed]",
      "text/plain": [
       "<Figure size 720x432 with 1 Axes>"
      ]
     },
     "metadata": {},
     "output_type": "display_data"
    },
    {
     "data": {
      "image/png": "[encoded data removed]",
      "text/plain": [
       "<Figure size 720x432 with 1 Axes>"
      ]
     },
     "metadata": {},
     "output_type": "display_data"
    },
    {
     "data": {
      "image/png": "[encoded data removed]",
      "text/plain": [
       "<Figure size 720x432 with 1 Axes>"
      ]
     },
     "metadata": {},
     "output_type": "display_data"
    },
    {
     "data": {
      "image/png": "[encoded data removed]",
      "text/plain": [
       "<Figure size 720x432 with 1 Axes>"
      ]
     },
     "metadata": {},
     "output_type": "display_data"
    },
    {
     "data": {
      "image/png": "[encoded data removed]",
      "text/plain": [
       "<Figure size 720x432 with 1 Axes>"
      ]
     },
     "metadata": {},
     "output_type": "display_data"
    },
    {
     "data": {
      "image/png": "[encoded data removed]",
      "text/plain": [
       "<Figure size 720x432 with 1 Axes>"
      ]
     },
     "metadata": {},
     "output_type": "display_data"
    },
    {
     "data": {
      "image/png": "[encoded data removed]",
      "text/plain": [
       "<Figure size 720x432 with 1 Axes>"
      ]
     },
     "metadata": {},
     "output_type": "display_data"
    }
   ],
   "source": [
    "col_list=['beer_beerId','beer_brewerId',\n",
    "          'review_appearance','review_palette',\n",
    "          'review_overall','review_taste',\n",
    "          'review_aroma']\n",
    "\n",
    "for i in col_list:\n",
    "    plt.figure(figsize=(10,6))\n",
    "    sns.set_style(\"whitegrid\")\n",
    "    sns.distplot(a=data[i],color=\"r\",kde=False)\n",
    "    plt.title(\"Distribution plot of {}\".format(i),fontsize=18)\n",
    "    plt.xlabel(f\"{i}\",fontsize='15')"
   ]
  },
  {
   "cell_type": "markdown",
   "metadata": {},
   "source": [
    "<font color=blue>*__OBSERVATION:__*<br>\n",
    "From Above Distribution Plot Analysis,<br>\n",
    "1. For beer_beerId & beer_brewerId : From Distribution plot is concentrcetaed for very few IDs & very few occurences are for IDs on right right skewed nature  <br>\n",
    "2. All Reviews: From Distrubtion plot we can observe Review number 4 is occuring most time <br> \n",
    "</font>"
   ]
  },
  {
   "cell_type": "markdown",
   "metadata": {},
   "source": [
    "## 2.3: Boxplot of Feature BeerABV"
   ]
  },
  {
   "cell_type": "code",
   "execution_count": 17,
   "metadata": {},
   "outputs": [
    {
     "data": {
      "text/plain": [
       "Index(['beer_ABV', 'beer_beerId', 'beer_brewerId', 'beer_name', 'beer_style',\n",
       "       'review_appearance', 'review_palette', 'review_overall', 'review_taste',\n",
       "       'review_profileName', 'review_aroma', 'review_text', 'review_time'],\n",
       "      dtype='object')"
      ]
     },
     "execution_count": 17,
     "metadata": {},
     "output_type": "execute_result"
    }
   ],
   "source": [
    "data.columns"
   ]
  },
  {
   "cell_type": "code",
   "execution_count": 18,
   "metadata": {},
   "outputs": [
    {
     "data": {
      "text/plain": [
       "Text(0, 0.5, 'beer_ABV')"
      ]
     },
     "execution_count": 18,
     "metadata": {},
     "output_type": "execute_result"
    },
    {
     "data": {
      "image/png": "[encoded data removed]",
      "text/plain": [
       "<Figure size 864x864 with 1 Axes>"
      ]
     },
     "metadata": {},
     "output_type": "display_data"
    }
   ],
   "source": [
    "plt.figure(figsize=(12,12))\n",
    "sns.set_style(\"whitegrid\")\n",
    "sns.boxplot(y=data['beer_ABV'],data=data)\n",
    "plt.yticks(np.arange(0,60,2),fontsize=12)\n",
    "plt.title(\"Boxplot of Feature: beer_ABV\",fontsize=18)\n",
    "plt.ylabel(\"beer_ABV\",fontsize=15)"
   ]
  },
  {
   "cell_type": "markdown",
   "metadata": {},
   "source": [
    "<font color=blue>*__OBSERVATION:__*<br>\n",
    "From Above Box Plot Analysis,<br>\n",
    "1. Outlier exists in the positive side of the plot & it goes upto 60% ABV   <br> \n",
    "2. From graph we can observe Interquantile range for Beer_ABV is appr. 5% to 8.5% (Q3-Q1)(<font color=red>same conclusion can be drawn from the pandas.df.describe() functionality )</font> <br>\n",
    "</font>"
   ]
  },
  {
   "cell_type": "markdown",
   "metadata": {},
   "source": [
    "## 2.4: Total Number of Different beerIDs & Its Counts"
   ]
  },
  {
   "cell_type": "code",
   "execution_count": 19,
   "metadata": {},
   "outputs": [
    {
     "name": "stdout",
     "output_type": "stream",
     "text": [
      "============================================================\n",
      "Total Number of Different beerIDs: 20200\n",
      "============================================================\n"
     ]
    }
   ],
   "source": [
    "print(\"=\"*60)\n",
    "print(\"Total Number of Different beerIDs:\",data['beer_beerId'].nunique())\n",
    "print(\"=\"*60)"
   ]
  },
  {
   "cell_type": "code",
   "execution_count": 20,
   "metadata": {},
   "outputs": [
    {
     "name": "stdout",
     "output_type": "stream",
     "text": [
      "============================================================\n",
      "Total Number of Counts for each beer_beerId (top 10)\n",
      "------------------------------------------------------------\n",
      "1904     2998\n",
      "276      2586\n",
      "11757    2501\n",
      "2671     2491\n",
      "34       2480\n",
      "104      2416\n",
      "355      2229\n",
      "645      2170\n",
      "30420    2028\n",
      "571      2024\n",
      "Name: beer_beerId, dtype: int64\n",
      "============================================================\n",
      "Percentage for each beer_beerId (top 10)\n",
      "------------------------------------------------------------\n",
      "1904     0.567120\n",
      "276      0.489183\n",
      "11757    0.473104\n",
      "2671     0.471213\n",
      "34       0.469132\n",
      "104      0.457025\n",
      "355      0.421651\n",
      "645      0.410490\n",
      "30420    0.383629\n",
      "571      0.382872\n",
      "Name: beer_beerId, dtype: float64\n",
      "============================================================\n"
     ]
    }
   ],
   "source": [
    "print(\"=\"*60)\n",
    "print(\"Total Number of Counts for each beer_beerId (top 10)\")\n",
    "print(\"-\"*60)\n",
    "print(data['beer_beerId'].value_counts().head(10))\n",
    "print(\"=\"*60)\n",
    "print(\"Percentage for each beer_beerId (top 10)\")\n",
    "print(\"-\"*60)\n",
    "print(data['beer_beerId'].value_counts(normalize=True).head(10)*100)\n",
    "print(\"=\"*60)"
   ]
  },
  {
   "cell_type": "code",
   "execution_count": 21,
   "metadata": {},
   "outputs": [
    {
     "data": {
      "text/plain": [
       "78.76732673267327"
      ]
     },
     "execution_count": 21,
     "metadata": {},
     "output_type": "execute_result"
    }
   ],
   "source": [
    "df_beer_beerId=pd.DataFrame(data['beer_beerId'].value_counts())\n",
    "len(df_beer_beerId[(df_beer_beerId[\"beer_beerId\"]<10)])/len(df_beer_beerId)*100"
   ]
  },
  {
   "cell_type": "markdown",
   "metadata": {},
   "source": [
    "<font color=blue>*__OBSERVATION:__*<br>\n",
    "From Above Analysis,<br>\n",
    "1. Total Number of Different beerIDs: 20200  <br> \n",
    "2. beerIDs:1904 contributes 2998 values with % of 0.567120% \n",
    "3. beer_beerIds 78.76% having less than 10 counts <br>\n",
    "</font>"
   ]
  },
  {
   "cell_type": "markdown",
   "metadata": {},
   "source": [
    "## 2.5: Total Number of Different brewerIds & Its Counts"
   ]
  },
  {
   "cell_type": "code",
   "execution_count": 22,
   "metadata": {},
   "outputs": [
    {
     "name": "stdout",
     "output_type": "stream",
     "text": [
      "============================================================\n",
      "Total Number of different brewerID: 1803\n",
      "============================================================\n"
     ]
    }
   ],
   "source": [
    "print(\"=\"*60)\n",
    "print(\"Total Number of different brewerID:\",data['beer_brewerId'].nunique())\n",
    "print(\"=\"*60)"
   ]
  },
  {
   "cell_type": "code",
   "execution_count": 23,
   "metadata": {},
   "outputs": [
    {
     "name": "stdout",
     "output_type": "stream",
     "text": [
      "============================================================\n",
      "Total Number of Counts for each brewerID (top 10)\n",
      "------------------------------------------------------------\n",
      "35      39431\n",
      "140     28741\n",
      "132     24070\n",
      "1199    19990\n",
      "3818    15863\n",
      "158     14928\n",
      "22      13906\n",
      "192     13405\n",
      "392     12241\n",
      "694     11838\n",
      "Name: beer_brewerId, dtype: int64\n",
      "============================================================\n",
      "Percentage for each brewerID (top 10)\n",
      "------------------------------------------------------------\n",
      "35      7.459008\n",
      "140     5.436822\n",
      "132     4.553228\n",
      "1199    3.781430\n",
      "3818    3.000742\n",
      "158     2.823871\n",
      "22      2.630544\n",
      "192     2.535771\n",
      "392     2.315582\n",
      "694     2.239348\n",
      "Name: beer_brewerId, dtype: float64\n",
      "============================================================\n"
     ]
    }
   ],
   "source": [
    "print(\"=\"*60)\n",
    "print(\"Total Number of Counts for each brewerID (top 10)\")\n",
    "print(\"-\"*60)\n",
    "print(data['beer_brewerId'].value_counts().head(10))\n",
    "print(\"=\"*60)\n",
    "print(\"Percentage for each brewerID (top 10)\")\n",
    "print(\"-\"*60)\n",
    "print(data['beer_brewerId'].value_counts(normalize=True).head(10)*100)\n",
    "print(\"=\"*60)"
   ]
  },
  {
   "cell_type": "code",
   "execution_count": 24,
   "metadata": {},
   "outputs": [
    {
     "data": {
      "text/plain": [
       "44.42595673876872"
      ]
     },
     "execution_count": 24,
     "metadata": {},
     "output_type": "execute_result"
    }
   ],
   "source": [
    "df_beer_brewerId=pd.DataFrame(data['beer_brewerId'].value_counts())\n",
    "len(df_beer_brewerId[(df_beer_brewerId[\"beer_brewerId\"]<10)])/len(df_beer_brewerId)*100"
   ]
  },
  {
   "cell_type": "markdown",
   "metadata": {},
   "source": [
    "<font color=blue>*__OBSERVATION:__*<br>\n",
    "From Above Analysis,<br>\n",
    "1. Total Number of Different beer_brewerId: 1803  <br> \n",
    "2. beer_brewerId:35 contributes 2998 values with % of 7.45% \n",
    "3. beer_brewerId 44.42% having less than 10 counts <br>\n",
    "</font>"
   ]
  },
  {
   "cell_type": "markdown",
   "metadata": {},
   "source": [
    "## 2.6: Total Number of Different Beer_Name & Its Counts"
   ]
  },
  {
   "cell_type": "code",
   "execution_count": 25,
   "metadata": {},
   "outputs": [
    {
     "name": "stdout",
     "output_type": "stream",
     "text": [
      "============================================================\n",
      "Total Number of different beer_name: 18339\n",
      "============================================================\n"
     ]
    }
   ],
   "source": [
    "print(\"=\"*60)\n",
    "print(\"Total Number of different beer_name:\",data['beer_name'].nunique())\n",
    "print(\"=\"*60)"
   ]
  },
  {
   "cell_type": "code",
   "execution_count": 26,
   "metadata": {},
   "outputs": [
    {
     "name": "stdout",
     "output_type": "stream",
     "text": [
      "============================================================\n",
      "Total Number of Counts for each beer_name (top 10)\n",
      "------------------------------------------------------------\n",
      "Sierra Nevada Celebration Ale                 2998\n",
      "Sierra Nevada Pale Ale                        2586\n",
      "Founders Breakfast Stout                      2501\n",
      "Sierra Nevada Bigfoot Barleywine Style Ale    2491\n",
      "La Fin Du Monde                               2480\n",
      "Samuel Adams Boston Lager                     2416\n",
      "Chocolate Stout                               2253\n",
      "Dead Guy Ale                                  2229\n",
      "Trappistes Rochefort 10                       2170\n",
      "Sierra Nevada Torpedo Extra IPA               2028\n",
      "Name: beer_name, dtype: int64\n",
      "============================================================\n",
      "Percentage for each beer_name (top 10)\n",
      "------------------------------------------------------------\n",
      "Sierra Nevada Celebration Ale                 0.567120\n",
      "Sierra Nevada Pale Ale                        0.489183\n",
      "Founders Breakfast Stout                      0.473104\n",
      "Sierra Nevada Bigfoot Barleywine Style Ale    0.471213\n",
      "La Fin Du Monde                               0.469132\n",
      "Samuel Adams Boston Lager                     0.457025\n",
      "Chocolate Stout                               0.426191\n",
      "Dead Guy Ale                                  0.421651\n",
      "Trappistes Rochefort 10                       0.410490\n",
      "Sierra Nevada Torpedo Extra IPA               0.383629\n",
      "Name: beer_name, dtype: float64\n",
      "============================================================\n"
     ]
    }
   ],
   "source": [
    "print(\"=\"*60)\n",
    "print(\"Total Number of Counts for each beer_name (top 10)\")\n",
    "print(\"-\"*60)\n",
    "print(data['beer_name'].value_counts().head(10))\n",
    "print(\"=\"*60)\n",
    "print(\"Percentage for each beer_name (top 10)\")\n",
    "print(\"-\"*60)\n",
    "print(data['beer_name'].value_counts(normalize=True).head(10)*100)\n",
    "print(\"=\"*60)"
   ]
  },
  {
   "cell_type": "code",
   "execution_count": 27,
   "metadata": {},
   "outputs": [
    {
     "data": {
      "text/plain": [
       "76.79262773324609"
      ]
     },
     "execution_count": 27,
     "metadata": {},
     "output_type": "execute_result"
    }
   ],
   "source": [
    "df_beer_name=pd.DataFrame(data['beer_name'].value_counts())\n",
    "len(df_beer_name[(df_beer_name[\"beer_name\"]<10)])/len(df_beer_name)*100"
   ]
  },
  {
   "cell_type": "markdown",
   "metadata": {},
   "source": [
    "<font color=blue>*__OBSERVATION:__*<br>\n",
    "From Above Analysis,<br>\n",
    "1. Total Number of Different beer_name: 18339  <br> \n",
    "2. beer_name:'Sierra Nevada Celebration Ale' contributes 2998 values with % of 0.56% \n",
    "3. beer_name: 76.79% having less than 10 counts <br>\n",
    "</font>"
   ]
  },
  {
   "cell_type": "markdown",
   "metadata": {},
   "source": [
    "## 2.7: Total Number of Different beer_style & Its Counts"
   ]
  },
  {
   "cell_type": "code",
   "execution_count": 28,
   "metadata": {},
   "outputs": [
    {
     "name": "stdout",
     "output_type": "stream",
     "text": [
      "============================================================\n",
      "Total Number of different beer_style: 104\n",
      "============================================================\n"
     ]
    }
   ],
   "source": [
    "print(\"=\"*60)\n",
    "print(\"Total Number of different beer_style:\",data['beer_style'].nunique())\n",
    "print(\"=\"*60)"
   ]
  },
  {
   "cell_type": "code",
   "execution_count": 29,
   "metadata": {},
   "outputs": [
    {
     "name": "stdout",
     "output_type": "stream",
     "text": [
      "============================================================\n",
      "Total Number of Counts for each beer_style (top 10)\n",
      "------------------------------------------------------------\n",
      "American IPA                        43358\n",
      "American Double / Imperial IPA      26092\n",
      "American Double / Imperial Stout    23346\n",
      "American Pale Ale (APA)             20511\n",
      "American Amber / Red Ale            18725\n",
      "Russian Imperial Stout              17181\n",
      "American Porter                     16597\n",
      "Belgian Strong Dark Ale             15398\n",
      "Fruit / Vegetable Beer              15144\n",
      "Witbier                             13528\n",
      "Name: beer_style, dtype: int64\n",
      "============================================================\n",
      "Percentage for each beer_style (top 10)\n",
      "------------------------------------------------------------\n",
      "American IPA                        8.201863\n",
      "American Double / Imperial IPA      4.935721\n",
      "American Double / Imperial Stout    4.416271\n",
      "American Pale Ale (APA)             3.879985\n",
      "American Amber / Red Ale            3.542135\n",
      "Russian Imperial Stout              3.250062\n",
      "American Porter                     3.139589\n",
      "Belgian Strong Dark Ale             2.912779\n",
      "Fruit / Vegetable Beer              2.864731\n",
      "Witbier                             2.559039\n",
      "Name: beer_style, dtype: float64\n",
      "============================================================\n"
     ]
    }
   ],
   "source": [
    "print(\"=\"*60)\n",
    "print(\"Total Number of Counts for each beer_style (top 10)\")\n",
    "print(\"-\"*60)\n",
    "print(data['beer_style'].value_counts().head(10))\n",
    "print(\"=\"*60)\n",
    "print(\"Percentage for each beer_style (top 10)\")\n",
    "print(\"-\"*60)\n",
    "print(data['beer_style'].value_counts(normalize=True).head(10)*100)\n",
    "print(\"=\"*60)"
   ]
  },
  {
   "cell_type": "markdown",
   "metadata": {},
   "source": [
    "<font color=blue>*__OBSERVATION:__*<br>\n",
    "From Above Analysis,<br>\n",
    "1. Total Number of different beer_style: 104 <br> \n",
    "2. beer_style.:'American IPA' contributes 2998 values with % of 8.2% \n",
    "<br>\n",
    "</font>"
   ]
  },
  {
   "cell_type": "markdown",
   "metadata": {},
   "source": [
    "## 2.8: Total Number of Different review_profileName & Its Counts"
   ]
  },
  {
   "cell_type": "code",
   "execution_count": 30,
   "metadata": {},
   "outputs": [
    {
     "name": "stdout",
     "output_type": "stream",
     "text": [
      "============================================================\n",
      "Total Number of different review_profileName: 22789\n",
      "============================================================\n"
     ]
    }
   ],
   "source": [
    "print(\"=\"*60)\n",
    "print(\"Total Number of different review_profileName:\",data['review_profileName'].nunique())\n",
    "print(\"=\"*60)"
   ]
  },
  {
   "cell_type": "code",
   "execution_count": 31,
   "metadata": {},
   "outputs": [
    {
     "name": "stdout",
     "output_type": "stream",
     "text": [
      "============================================================\n",
      "Total Number of Counts for each review_profileName (top 10)\n",
      "------------------------------------------------------------\n",
      "northyorksammy    1858\n",
      "mikesgroove       1403\n",
      "BuckeyeNation     1298\n",
      "womencantsail     1238\n",
      "Phyl21ca          1164\n",
      "ChainGangGuy      1155\n",
      "Thorpe429         1042\n",
      "brentk56          1026\n",
      "NeroFiddled       1012\n",
      "feloniousmonk     1008\n",
      "Name: review_profileName, dtype: int64\n",
      "============================================================\n",
      "Percentage for each review_profileName (top 10)\n",
      "------------------------------------------------------------\n",
      "northyorksammy    0.351471\n",
      "mikesgroove       0.265400\n",
      "BuckeyeNation     0.245538\n",
      "womencantsail     0.234188\n",
      "Phyl21ca          0.220189\n",
      "ChainGangGuy      0.218487\n",
      "Thorpe429         0.197111\n",
      "brentk56          0.194084\n",
      "NeroFiddled       0.191436\n",
      "feloniousmonk     0.190679\n",
      "Name: review_profileName, dtype: float64\n",
      "============================================================\n"
     ]
    }
   ],
   "source": [
    "print(\"=\"*60)\n",
    "print(\"Total Number of Counts for each review_profileName (top 10)\")\n",
    "print(\"-\"*60)\n",
    "print(data['review_profileName'].value_counts().head(10))\n",
    "print(\"=\"*60)\n",
    "print(\"Percentage for each review_profileName (top 10)\")\n",
    "print(\"-\"*60)\n",
    "print(data['review_profileName'].value_counts(normalize=True).head(10)*100)\n",
    "print(\"=\"*60)"
   ]
  },
  {
   "cell_type": "code",
   "execution_count": 32,
   "metadata": {},
   "outputs": [
    {
     "data": {
      "text/plain": [
       "71.57839308438282"
      ]
     },
     "execution_count": 32,
     "metadata": {},
     "output_type": "execute_result"
    }
   ],
   "source": [
    "df_review_profileName=pd.DataFrame(data['review_profileName'].value_counts())\n",
    "len(df_review_profileName[(df_review_profileName[\"review_profileName\"]<10)])/len(df_review_profileName)*100"
   ]
  },
  {
   "cell_type": "markdown",
   "metadata": {},
   "source": [
    "<font color=blue>*__OBSERVATION:__*<br>\n",
    "From Above Analysis,<br>\n",
    "1. Total Number of different review_profileName: 22800  <br> \n",
    "2. review_profileName:'northyorksammy' contributes 1858 values with % of 0.0.35% \n",
    "3. review_profileName: 71.57% having less than 10 counts <br>\n",
    "</font>"
   ]
  },
  {
   "cell_type": "markdown",
   "metadata": {},
   "source": [
    "## 2.9: Numerical, Categorical & Text Feature Check"
   ]
  },
  {
   "cell_type": "code",
   "execution_count": 33,
   "metadata": {},
   "outputs": [
    {
     "data": {
      "text/plain": [
       "['beer_name', 'beer_style', 'review_profileName', 'review_text']"
      ]
     },
     "execution_count": 33,
     "metadata": {},
     "output_type": "execute_result"
    }
   ],
   "source": [
    "data.select_dtypes(include=['object']).columns.tolist()"
   ]
  },
  {
   "cell_type": "code",
   "execution_count": 34,
   "metadata": {},
   "outputs": [
    {
     "name": "stdout",
     "output_type": "stream",
     "text": [
      "['beer_ABV', 'beer_beerId', 'beer_brewerId', 'review_appearance', 'review_palette', 'review_overall', 'review_taste', 'review_aroma', 'review_time']\n"
     ]
    }
   ],
   "source": [
    "print(data.select_dtypes(exclude=['object']).columns.tolist())"
   ]
  },
  {
   "cell_type": "markdown",
   "metadata": {},
   "source": [
    "<font color=blue>*__OBSERVATION:__*<br>\n",
    "From Above Analysis,<br>\n",
    "1. Numerical Features:'beer_ABV' <br>\n",
    "2. Categorical Feature(numbers from 0 to 5):'review_appearance', 'review_palette', 'review_overall', 'review_taste', 'review_aroma' <br>\n",
    "3. Categorical Feature: 'beer_beerId', 'beer_brewerId','Beer_Name','beer_style', 'review_profileName' <br> \n",
    "4. Time Feature :'review_time'<br>\n",
    "5. Text Feature :'review_text'<br>\n",
    "</font>"
   ]
  },
  {
   "cell_type": "markdown",
   "metadata": {},
   "source": [
    "# 3: Assessment Questions "
   ]
  },
  {
   "cell_type": "markdown",
   "metadata": {},
   "source": [
    "## 3.1: Q1- Rank Top 3 Breweries which produce the strongest beers?"
   ]
  },
  {
   "cell_type": "markdown",
   "metadata": {},
   "source": [
    "### 3.1.1: Q1- Approach 1"
   ]
  },
  {
   "cell_type": "code",
   "execution_count": 35,
   "metadata": {},
   "outputs": [],
   "source": [
    "df_strongest_beer=data.groupby(\"beer_brewerId\")[\"beer_ABV\"].max()"
   ]
  },
  {
   "cell_type": "code",
   "execution_count": 36,
   "metadata": {},
   "outputs": [],
   "source": [
    "df_strongest_beer_final=pd.DataFrame(df_strongest_beer).sort_values(by=['beer_ABV'],ascending=False).reset_index()[0:3]"
   ]
  },
  {
   "cell_type": "code",
   "execution_count": 37,
   "metadata": {},
   "outputs": [
    {
     "data": {
      "text/html": [
       "<div>\n",
       "<style scoped>\n",
       "    .dataframe tbody tr th:only-of-type {\n",
       "        vertical-align: middle;\n",
       "    }\n",
       "\n",
       "    .dataframe tbody tr th {\n",
       "        vertical-align: top;\n",
       "    }\n",
       "\n",
       "    .dataframe thead th {\n",
       "        text-align: right;\n",
       "    }\n",
       "</style>\n",
       "<table border=\"1\" class=\"dataframe\">\n",
       "  <thead>\n",
       "    <tr style=\"text-align: right;\">\n",
       "      <th></th>\n",
       "      <th>beer_brewerId</th>\n",
       "      <th>beer_ABV</th>\n",
       "    </tr>\n",
       "  </thead>\n",
       "  <tbody>\n",
       "    <tr>\n",
       "      <th>0</th>\n",
       "      <td>6513</td>\n",
       "      <td>57.7</td>\n",
       "    </tr>\n",
       "    <tr>\n",
       "      <th>1</th>\n",
       "      <td>35</td>\n",
       "      <td>27.0</td>\n",
       "    </tr>\n",
       "    <tr>\n",
       "      <th>2</th>\n",
       "      <td>2958</td>\n",
       "      <td>19.5</td>\n",
       "    </tr>\n",
       "  </tbody>\n",
       "</table>\n",
       "</div>"
      ],
      "text/plain": [
       "   beer_brewerId  beer_ABV\n",
       "0           6513      57.7\n",
       "1             35      27.0\n",
       "2           2958      19.5"
      ]
     },
     "execution_count": 37,
     "metadata": {},
     "output_type": "execute_result"
    }
   ],
   "source": [
    "df_strongest_beer_final"
   ]
  },
  {
   "cell_type": "code",
   "execution_count": 38,
   "metadata": {},
   "outputs": [],
   "source": [
    "df_strongest_beer_final.index=df_strongest_beer_final['beer_brewerId']"
   ]
  },
  {
   "cell_type": "code",
   "execution_count": 39,
   "metadata": {},
   "outputs": [
    {
     "data": {
      "text/plain": [
       "Index(['beer_brewerId', 'beer_ABV'], dtype='object')"
      ]
     },
     "execution_count": 39,
     "metadata": {},
     "output_type": "execute_result"
    }
   ],
   "source": [
    "df_strongest_beer_final.columns"
   ]
  },
  {
   "cell_type": "code",
   "execution_count": 40,
   "metadata": {},
   "outputs": [
    {
     "data": {
      "text/plain": [
       "(array([ 0., 10., 20., 30., 40., 50., 60., 70.]),\n",
       " <a list of 8 Text yticklabel objects>)"
      ]
     },
     "execution_count": 40,
     "metadata": {},
     "output_type": "execute_result"
    },
    {
     "data": {
      "image/png": "[encoded data removed]",
      "text/plain": [
       "<Figure size 576x360 with 1 Axes>"
      ]
     },
     "metadata": {},
     "output_type": "display_data"
    }
   ],
   "source": [
    "df_strongest_beer_final['beer_ABV'].plot(kind='bar',\n",
    "                                         x=df_strongest_beer_final['beer_brewerId'],\n",
    "                                         figsize=(8,5))\n",
    "plt.title('Bar Plot Beer_ABV Vs beer_brewerId ',fontsize=18)\n",
    "plt.xlabel(\"Manufacturrer(beer_brewerId)\",fontsize=15)\n",
    "plt.ylabel(\"beer_ABV(Alcohol By Volume)\",fontsize=15)\n",
    "plt.xticks(fontsize=16,rotation=-45)\n",
    "plt.yticks(fontsize=16)"
   ]
  },
  {
   "cell_type": "markdown",
   "metadata": {},
   "source": [
    "<font color=blue>*__Observation/Conclusion__*<br>\n",
    "Top 3 Breweries which produce the strongest beers<br>\n",
    "     a. beer_brewerId:6513 & beer_ABV(Alcohol_by_Volume):57.7% <br>\n",
    "     b. beer_brewerId:35 & beer_ABV(Alcohol_by_Volume):27% <br>\n",
    "     c. beer_brewerId:2958 & beer_ABV(Alcohol_by_Volume):19.5% <br>\n",
    "            </font>"
   ]
  },
  {
   "cell_type": "markdown",
   "metadata": {},
   "source": [
    "### 3.1.2: Q1- Approach 2"
   ]
  },
  {
   "cell_type": "code",
   "execution_count": 41,
   "metadata": {},
   "outputs": [
    {
     "data": {
      "text/plain": [
       "[6513, 35, 16866]"
      ]
     },
     "execution_count": 41,
     "metadata": {},
     "output_type": "execute_result"
    }
   ],
   "source": [
    "brewer_id_list=data.groupby(\"beer_ABV\").first().tail(50)[\"beer_brewerId\"].tolist()[::-1]\n",
    "unique_brewer_id=[]\n",
    "for i in brewer_id_list:\n",
    "    if i in unique_brewer_id:\n",
    "        pass\n",
    "    else:\n",
    "        unique_brewer_id.append(i)\n",
    "\n",
    "unique_brewer_id[0:3]\n",
    "    "
   ]
  },
  {
   "cell_type": "markdown",
   "metadata": {},
   "source": [
    "<font color=blue>*__Observation/Conclusion__*<br>\n",
    "Top 3 Breweries which produce the strongest beers Approach 2 <br>\n",
    "     a. beer_brewerId:6513  <br>\n",
    "     b. beer_brewerId:35  <br>\n",
    "     c. beer_brewerId:2958  <br>\n",
    "Note:By Approach 2 we getting only BrewerIDs\n",
    "            </font>"
   ]
  },
  {
   "cell_type": "markdown",
   "metadata": {},
   "source": [
    "## 3.2: Q2-Which year did beers enjoy the highest ratings?"
   ]
  },
  {
   "cell_type": "markdown",
   "metadata": {},
   "source": [
    "### 3.2.1: Q2-Approach 1 "
   ]
  },
  {
   "cell_type": "code",
   "execution_count": 42,
   "metadata": {},
   "outputs": [
    {
     "data": {
      "text/plain": [
       "Index(['beer_ABV', 'beer_beerId', 'beer_brewerId', 'beer_name', 'beer_style',\n",
       "       'review_appearance', 'review_palette', 'review_overall', 'review_taste',\n",
       "       'review_profileName', 'review_aroma', 'review_text', 'review_time'],\n",
       "      dtype='object')"
      ]
     },
     "execution_count": 42,
     "metadata": {},
     "output_type": "execute_result"
    }
   ],
   "source": [
    "data.columns"
   ]
  },
  {
   "cell_type": "code",
   "execution_count": 43,
   "metadata": {},
   "outputs": [
    {
     "data": {
      "text/plain": [
       "0         1234817823\n",
       "1         1235915097\n",
       "2         1235916604\n",
       "3         1234725145\n",
       "4         1293735206\n",
       "             ...    \n",
       "528865    1205212721\n",
       "528866    1203490783\n",
       "528867    1201320897\n",
       "528868    1201215290\n",
       "528869    1200336367\n",
       "Name: review_time, Length: 528636, dtype: int64"
      ]
     },
     "execution_count": 43,
     "metadata": {},
     "output_type": "execute_result"
    }
   ],
   "source": [
    "data[\"review_time\"]"
   ]
  },
  {
   "cell_type": "code",
   "execution_count": 44,
   "metadata": {},
   "outputs": [
    {
     "data": {
      "text/plain": [
       "0        2009-02-16 20:57:03\n",
       "1        2009-03-01 13:44:57\n",
       "2        2009-03-01 14:10:04\n",
       "3        2009-02-15 19:12:25\n",
       "4        2010-12-30 18:53:26\n",
       "                 ...        \n",
       "528865   2008-03-11 05:18:41\n",
       "528866   2008-02-20 06:59:43\n",
       "528867   2008-01-26 04:14:57\n",
       "528868   2008-01-24 22:54:50\n",
       "528869   2008-01-14 18:46:07\n",
       "Name: review_time, Length: 528636, dtype: datetime64[ns]"
      ]
     },
     "execution_count": 44,
     "metadata": {},
     "output_type": "execute_result"
    }
   ],
   "source": [
    "pd.to_datetime(data['review_time'], unit='s')"
   ]
  },
  {
   "cell_type": "code",
   "execution_count": 45,
   "metadata": {},
   "outputs": [],
   "source": [
    "data[\"date\"]=pd.to_datetime(data['review_time'], unit='s')"
   ]
  },
  {
   "cell_type": "code",
   "execution_count": 46,
   "metadata": {},
   "outputs": [
    {
     "data": {
      "text/plain": [
       "Int64Index([2009, 2009, 2009, 2009, 2010, 2012, 2011, 2011, 2010, 2010,\n",
       "            ...\n",
       "            2008, 2008, 2008, 2008, 2008, 2008, 2008, 2008, 2008, 2008],\n",
       "           dtype='int64', name='date', length=528636)"
      ]
     },
     "execution_count": 46,
     "metadata": {},
     "output_type": "execute_result"
    }
   ],
   "source": [
    "pd.DatetimeIndex(data['date']).year"
   ]
  },
  {
   "cell_type": "code",
   "execution_count": 47,
   "metadata": {},
   "outputs": [],
   "source": [
    "data['year']=pd.DatetimeIndex(data['date']).year"
   ]
  },
  {
   "cell_type": "code",
   "execution_count": 48,
   "metadata": {},
   "outputs": [
    {
     "data": {
      "text/plain": [
       "Index(['beer_ABV', 'beer_beerId', 'beer_brewerId', 'beer_name', 'beer_style',\n",
       "       'review_appearance', 'review_palette', 'review_overall', 'review_taste',\n",
       "       'review_profileName', 'review_aroma', 'review_text', 'review_time',\n",
       "       'date', 'year'],\n",
       "      dtype='object')"
      ]
     },
     "execution_count": 48,
     "metadata": {},
     "output_type": "execute_result"
    }
   ],
   "source": [
    "data.columns"
   ]
  },
  {
   "cell_type": "code",
   "execution_count": 49,
   "metadata": {},
   "outputs": [],
   "source": [
    "df_year_review=pd.DataFrame(data.groupby('year')['review_overall'].mean())"
   ]
  },
  {
   "cell_type": "code",
   "execution_count": 50,
   "metadata": {},
   "outputs": [
    {
     "data": {
      "text/plain": [
       "Index(['review_overall'], dtype='object')"
      ]
     },
     "execution_count": 50,
     "metadata": {},
     "output_type": "execute_result"
    }
   ],
   "source": [
    "df_year_review.columns"
   ]
  },
  {
   "cell_type": "code",
   "execution_count": 51,
   "metadata": {},
   "outputs": [
    {
     "data": {
      "text/plain": [
       "2000"
      ]
     },
     "execution_count": 51,
     "metadata": {},
     "output_type": "execute_result"
    }
   ],
   "source": [
    "df_year_review.sort_values(by='review_overall',ascending=False).index[0]"
   ]
  },
  {
   "cell_type": "markdown",
   "metadata": {},
   "source": [
    "### 3.2.2: Q2-Approach 2 "
   ]
  },
  {
   "cell_type": "code",
   "execution_count": 52,
   "metadata": {},
   "outputs": [],
   "source": [
    "#df_year_review['year'] = df_year_review.index"
   ]
  },
  {
   "cell_type": "code",
   "execution_count": 53,
   "metadata": {},
   "outputs": [
    {
     "data": {
      "text/html": [
       "<div>\n",
       "<style scoped>\n",
       "    .dataframe tbody tr th:only-of-type {\n",
       "        vertical-align: middle;\n",
       "    }\n",
       "\n",
       "    .dataframe tbody tr th {\n",
       "        vertical-align: top;\n",
       "    }\n",
       "\n",
       "    .dataframe thead th {\n",
       "        text-align: right;\n",
       "    }\n",
       "</style>\n",
       "<table border=\"1\" class=\"dataframe\">\n",
       "  <thead>\n",
       "    <tr style=\"text-align: right;\">\n",
       "      <th></th>\n",
       "      <th>review_overall</th>\n",
       "    </tr>\n",
       "    <tr>\n",
       "      <th>year</th>\n",
       "      <th></th>\n",
       "    </tr>\n",
       "  </thead>\n",
       "  <tbody>\n",
       "    <tr>\n",
       "      <th>1998</th>\n",
       "      <td>3.891304</td>\n",
       "    </tr>\n",
       "    <tr>\n",
       "      <th>1999</th>\n",
       "      <td>4.000000</td>\n",
       "    </tr>\n",
       "  </tbody>\n",
       "</table>\n",
       "</div>"
      ],
      "text/plain": [
       "      review_overall\n",
       "year                \n",
       "1998        3.891304\n",
       "1999        4.000000"
      ]
     },
     "execution_count": 53,
     "metadata": {},
     "output_type": "execute_result"
    }
   ],
   "source": [
    "df_year_review.head(2)"
   ]
  },
  {
   "cell_type": "code",
   "execution_count": 54,
   "metadata": {},
   "outputs": [
    {
     "data": {
      "text/plain": [
       "year\n",
       "1998    False\n",
       "1999    False\n",
       "2000     True\n",
       "2001    False\n",
       "2002    False\n",
       "2003    False\n",
       "2004    False\n",
       "2005    False\n",
       "2006    False\n",
       "2007    False\n",
       "2008    False\n",
       "2009    False\n",
       "2010    False\n",
       "2011    False\n",
       "2012    False\n",
       "Name: review_overall, dtype: bool"
      ]
     },
     "execution_count": 54,
     "metadata": {},
     "output_type": "execute_result"
    }
   ],
   "source": [
    "df_year_review['review_overall']==df_year_review['review_overall'].max()"
   ]
  },
  {
   "cell_type": "code",
   "execution_count": 55,
   "metadata": {},
   "outputs": [],
   "source": [
    "df_year_review_final=df_year_review[df_year_review['review_overall']==df_year_review['review_overall']]"
   ]
  },
  {
   "cell_type": "code",
   "execution_count": 56,
   "metadata": {},
   "outputs": [
    {
     "data": {
      "text/html": [
       "<div>\n",
       "<style scoped>\n",
       "    .dataframe tbody tr th:only-of-type {\n",
       "        vertical-align: middle;\n",
       "    }\n",
       "\n",
       "    .dataframe tbody tr th {\n",
       "        vertical-align: top;\n",
       "    }\n",
       "\n",
       "    .dataframe thead th {\n",
       "        text-align: right;\n",
       "    }\n",
       "</style>\n",
       "<table border=\"1\" class=\"dataframe\">\n",
       "  <thead>\n",
       "    <tr style=\"text-align: right;\">\n",
       "      <th></th>\n",
       "      <th>review_overall</th>\n",
       "    </tr>\n",
       "    <tr>\n",
       "      <th>year</th>\n",
       "      <th></th>\n",
       "    </tr>\n",
       "  </thead>\n",
       "  <tbody>\n",
       "    <tr>\n",
       "      <th>1998</th>\n",
       "      <td>3.891304</td>\n",
       "    </tr>\n",
       "    <tr>\n",
       "      <th>1999</th>\n",
       "      <td>4.000000</td>\n",
       "    </tr>\n",
       "    <tr>\n",
       "      <th>2000</th>\n",
       "      <td>4.181818</td>\n",
       "    </tr>\n",
       "    <tr>\n",
       "      <th>2001</th>\n",
       "      <td>3.927741</td>\n",
       "    </tr>\n",
       "    <tr>\n",
       "      <th>2002</th>\n",
       "      <td>3.798905</td>\n",
       "    </tr>\n",
       "  </tbody>\n",
       "</table>\n",
       "</div>"
      ],
      "text/plain": [
       "      review_overall\n",
       "year                \n",
       "1998        3.891304\n",
       "1999        4.000000\n",
       "2000        4.181818\n",
       "2001        3.927741\n",
       "2002        3.798905"
      ]
     },
     "execution_count": 56,
     "metadata": {},
     "output_type": "execute_result"
    }
   ],
   "source": [
    "df_year_review_final.head()"
   ]
  },
  {
   "cell_type": "code",
   "execution_count": 57,
   "metadata": {},
   "outputs": [
    {
     "data": {
      "text/plain": [
       "Int64Index([1998, 1999, 2000, 2001, 2002], dtype='int64', name='year')"
      ]
     },
     "execution_count": 57,
     "metadata": {},
     "output_type": "execute_result"
    }
   ],
   "source": [
    "df_year_review_final.head().index"
   ]
  },
  {
   "cell_type": "code",
   "execution_count": 58,
   "metadata": {},
   "outputs": [
    {
     "data": {
      "text/plain": [
       "(array([0. , 0.5, 1. , 1.5, 2. , 2.5, 3. , 3.5, 4. , 4.5]),\n",
       " <a list of 10 Text yticklabel objects>)"
      ]
     },
     "execution_count": 58,
     "metadata": {},
     "output_type": "execute_result"
    },
    {
     "data": {
      "image/png": "[encoded data removed]",
      "text/plain": [
       "<Figure size 576x360 with 1 Axes>"
      ]
     },
     "metadata": {},
     "output_type": "display_data"
    }
   ],
   "source": [
    "df_year_review_final.sort_values(\"review_overall\",\n",
    "                                 ascending=False).head(3).plot(kind='bar',\n",
    "                                                              figsize=(8,5))\n",
    "plt.title('Bar Plot Review_Overall Vs Year',fontsize=18)\n",
    "plt.xlabel(\"Year\",fontsize=15)\n",
    "plt.ylabel(\"Review_Overall\",fontsize=15)\n",
    "plt.xticks(fontsize=16,rotation=-45)\n",
    "plt.yticks(fontsize=16)"
   ]
  },
  {
   "cell_type": "markdown",
   "metadata": {},
   "source": [
    "<font color=blue>*__Observation/Conclusion__*<br>\n",
    "From Above Bar Plot we clearly obeseve<br>\n",
    "1. Year **__2000__** enjoy the highest overall ratings with mean of 4.18 ratings.  <br></font>"
   ]
  },
  {
   "cell_type": "code",
   "execution_count": 59,
   "metadata": {},
   "outputs": [],
   "source": [
    "df_year_review_final=df_year_review[df_year_review['review_overall']==df_year_review['review_overall'].max()]"
   ]
  },
  {
   "cell_type": "code",
   "execution_count": 60,
   "metadata": {},
   "outputs": [
    {
     "data": {
      "text/html": [
       "<div>\n",
       "<style scoped>\n",
       "    .dataframe tbody tr th:only-of-type {\n",
       "        vertical-align: middle;\n",
       "    }\n",
       "\n",
       "    .dataframe tbody tr th {\n",
       "        vertical-align: top;\n",
       "    }\n",
       "\n",
       "    .dataframe thead th {\n",
       "        text-align: right;\n",
       "    }\n",
       "</style>\n",
       "<table border=\"1\" class=\"dataframe\">\n",
       "  <thead>\n",
       "    <tr style=\"text-align: right;\">\n",
       "      <th></th>\n",
       "      <th>review_overall</th>\n",
       "    </tr>\n",
       "    <tr>\n",
       "      <th>year</th>\n",
       "      <th></th>\n",
       "    </tr>\n",
       "  </thead>\n",
       "  <tbody>\n",
       "    <tr>\n",
       "      <th>2000</th>\n",
       "      <td>4.181818</td>\n",
       "    </tr>\n",
       "  </tbody>\n",
       "</table>\n",
       "</div>"
      ],
      "text/plain": [
       "      review_overall\n",
       "year                \n",
       "2000        4.181818"
      ]
     },
     "execution_count": 60,
     "metadata": {},
     "output_type": "execute_result"
    }
   ],
   "source": [
    "df_year_review_final"
   ]
  },
  {
   "cell_type": "markdown",
   "metadata": {},
   "source": [
    "<font color=blue>*__Observation/Conclusion__*<br>\n",
    "1. Year **__2000__** enjoy the highest overall ratings with mean of 4.18 ratings.  <br></font>"
   ]
  },
  {
   "cell_type": "markdown",
   "metadata": {},
   "source": [
    "## 3.3: Q3- Based on the user’s ratings which factors are important among taste, aroma, appearance, and palette?"
   ]
  },
  {
   "cell_type": "markdown",
   "metadata": {},
   "source": [
    "### 3.3.1: Q3 Approach 1 Correlation"
   ]
  },
  {
   "cell_type": "code",
   "execution_count": 61,
   "metadata": {},
   "outputs": [
    {
     "data": {
      "text/plain": [
       "Index(['beer_ABV', 'beer_beerId', 'beer_brewerId', 'beer_name', 'beer_style',\n",
       "       'review_appearance', 'review_palette', 'review_overall', 'review_taste',\n",
       "       'review_profileName', 'review_aroma', 'review_text', 'review_time',\n",
       "       'date', 'year'],\n",
       "      dtype='object')"
      ]
     },
     "execution_count": 61,
     "metadata": {},
     "output_type": "execute_result"
    }
   ],
   "source": [
    "data.columns"
   ]
  },
  {
   "cell_type": "code",
   "execution_count": 62,
   "metadata": {},
   "outputs": [],
   "source": [
    "df_reviews_all=data[['review_appearance', 'review_palette', 'review_overall', 'review_taste','review_aroma']]"
   ]
  },
  {
   "cell_type": "code",
   "execution_count": 63,
   "metadata": {},
   "outputs": [
    {
     "data": {
      "text/html": [
       "<div>\n",
       "<style scoped>\n",
       "    .dataframe tbody tr th:only-of-type {\n",
       "        vertical-align: middle;\n",
       "    }\n",
       "\n",
       "    .dataframe tbody tr th {\n",
       "        vertical-align: top;\n",
       "    }\n",
       "\n",
       "    .dataframe thead th {\n",
       "        text-align: right;\n",
       "    }\n",
       "</style>\n",
       "<table border=\"1\" class=\"dataframe\">\n",
       "  <thead>\n",
       "    <tr style=\"text-align: right;\">\n",
       "      <th></th>\n",
       "      <th>review_appearance</th>\n",
       "      <th>review_palette</th>\n",
       "      <th>review_overall</th>\n",
       "      <th>review_taste</th>\n",
       "      <th>review_aroma</th>\n",
       "    </tr>\n",
       "  </thead>\n",
       "  <tbody>\n",
       "    <tr>\n",
       "      <th>0</th>\n",
       "      <td>2.5</td>\n",
       "      <td>2.0</td>\n",
       "      <td>1.5</td>\n",
       "      <td>1.5</td>\n",
       "      <td>1.5</td>\n",
       "    </tr>\n",
       "    <tr>\n",
       "      <th>1</th>\n",
       "      <td>3.0</td>\n",
       "      <td>2.5</td>\n",
       "      <td>3.0</td>\n",
       "      <td>3.0</td>\n",
       "      <td>3.0</td>\n",
       "    </tr>\n",
       "  </tbody>\n",
       "</table>\n",
       "</div>"
      ],
      "text/plain": [
       "   review_appearance  review_palette  review_overall  review_taste  \\\n",
       "0                2.5             2.0             1.5           1.5   \n",
       "1                3.0             2.5             3.0           3.0   \n",
       "\n",
       "   review_aroma  \n",
       "0           1.5  \n",
       "1           3.0  "
      ]
     },
     "execution_count": 63,
     "metadata": {},
     "output_type": "execute_result"
    }
   ],
   "source": [
    "df_reviews_all.head(2)"
   ]
  },
  {
   "cell_type": "code",
   "execution_count": 64,
   "metadata": {},
   "outputs": [
    {
     "data": {
      "text/plain": [
       "Index(['review_appearance', 'review_palette', 'review_overall', 'review_taste',\n",
       "       'review_aroma'],\n",
       "      dtype='object')"
      ]
     },
     "execution_count": 64,
     "metadata": {},
     "output_type": "execute_result"
    }
   ],
   "source": [
    "df_reviews_all.columns"
   ]
  },
  {
   "cell_type": "code",
   "execution_count": 65,
   "metadata": {},
   "outputs": [
    {
     "name": "stdout",
     "output_type": "stream",
     "text": [
      "================================================================================\n",
      "--------------------------------------------------------------------------------\n",
      "Correlaion of review_overall with review_appearance is : 0.4866815095411411\n",
      "--------------------------------------------------------------------------------\n",
      "--------------------------------------------------------------------------------\n",
      "Correlaion of review_overall with review_palette is : 0.6019481902309212\n",
      "--------------------------------------------------------------------------------\n",
      "--------------------------------------------------------------------------------\n",
      "Correlaion of review_overall with review_taste is : 0.6924322218759309\n",
      "--------------------------------------------------------------------------------\n",
      "--------------------------------------------------------------------------------\n",
      "Correlaion of review_overall with review_aroma is : 0.7829946894831371\n",
      "--------------------------------------------------------------------------------\n",
      "================================================================================\n"
     ]
    }
   ],
   "source": [
    "review_list_col=['review_appearance', 'review_palette', 'review_taste','review_aroma']\n",
    "print(\"=\"*80)\n",
    "for i in review_list_col:\n",
    "    print(\"-\"*80)\n",
    "    print(f\"Correlaion of review_overall with {i} is :\",\n",
    "          df_reviews_all['review_overall'].corr(df_reviews_all[i]))\n",
    "    print(\"-\"*80)\n",
    "print(\"=\"*80)"
   ]
  },
  {
   "cell_type": "code",
   "execution_count": 66,
   "metadata": {},
   "outputs": [
    {
     "data": {
      "text/plain": [
       "Index(['review_appearance', 'review_palette', 'review_overall', 'review_taste',\n",
       "       'review_aroma'],\n",
       "      dtype='object')"
      ]
     },
     "execution_count": 66,
     "metadata": {},
     "output_type": "execute_result"
    }
   ],
   "source": [
    "df_reviews_all.columns"
   ]
  },
  {
   "cell_type": "markdown",
   "metadata": {},
   "source": [
    "<font color=blue>*__Observation/Conclusion__*<br>\n",
    "1. Correlaion of **__review_overall__** with **__review_aroma__** is : 0.78<br></font>"
   ]
  },
  {
   "cell_type": "markdown",
   "metadata": {},
   "source": [
    "### 3.3.2: Q3 Approach 2-Correlation & Heatmap"
   ]
  },
  {
   "cell_type": "code",
   "execution_count": 67,
   "metadata": {},
   "outputs": [
    {
     "data": {
      "text/html": [
       "<div>\n",
       "<style scoped>\n",
       "    .dataframe tbody tr th:only-of-type {\n",
       "        vertical-align: middle;\n",
       "    }\n",
       "\n",
       "    .dataframe tbody tr th {\n",
       "        vertical-align: top;\n",
       "    }\n",
       "\n",
       "    .dataframe thead th {\n",
       "        text-align: right;\n",
       "    }\n",
       "</style>\n",
       "<table border=\"1\" class=\"dataframe\">\n",
       "  <thead>\n",
       "    <tr style=\"text-align: right;\">\n",
       "      <th></th>\n",
       "      <th>review_appearance</th>\n",
       "      <th>review_palette</th>\n",
       "      <th>review_overall</th>\n",
       "      <th>review_taste</th>\n",
       "      <th>review_aroma</th>\n",
       "    </tr>\n",
       "  </thead>\n",
       "  <tbody>\n",
       "    <tr>\n",
       "      <th>0</th>\n",
       "      <td>2.5</td>\n",
       "      <td>2.0</td>\n",
       "      <td>1.5</td>\n",
       "      <td>1.5</td>\n",
       "      <td>1.5</td>\n",
       "    </tr>\n",
       "    <tr>\n",
       "      <th>1</th>\n",
       "      <td>3.0</td>\n",
       "      <td>2.5</td>\n",
       "      <td>3.0</td>\n",
       "      <td>3.0</td>\n",
       "      <td>3.0</td>\n",
       "    </tr>\n",
       "  </tbody>\n",
       "</table>\n",
       "</div>"
      ],
      "text/plain": [
       "   review_appearance  review_palette  review_overall  review_taste  \\\n",
       "0                2.5             2.0             1.5           1.5   \n",
       "1                3.0             2.5             3.0           3.0   \n",
       "\n",
       "   review_aroma  \n",
       "0           1.5  \n",
       "1           3.0  "
      ]
     },
     "execution_count": 67,
     "metadata": {},
     "output_type": "execute_result"
    }
   ],
   "source": [
    "df_reviews_all.head(2)"
   ]
  },
  {
   "cell_type": "code",
   "execution_count": 68,
   "metadata": {},
   "outputs": [
    {
     "data": {
      "text/html": [
       "<div>\n",
       "<style scoped>\n",
       "    .dataframe tbody tr th:only-of-type {\n",
       "        vertical-align: middle;\n",
       "    }\n",
       "\n",
       "    .dataframe tbody tr th {\n",
       "        vertical-align: top;\n",
       "    }\n",
       "\n",
       "    .dataframe thead th {\n",
       "        text-align: right;\n",
       "    }\n",
       "</style>\n",
       "<table border=\"1\" class=\"dataframe\">\n",
       "  <thead>\n",
       "    <tr style=\"text-align: right;\">\n",
       "      <th></th>\n",
       "      <th>review_appearance</th>\n",
       "      <th>review_palette</th>\n",
       "      <th>review_overall</th>\n",
       "      <th>review_taste</th>\n",
       "      <th>review_aroma</th>\n",
       "    </tr>\n",
       "  </thead>\n",
       "  <tbody>\n",
       "    <tr>\n",
       "      <th>review_appearance</th>\n",
       "      <td>1.000000</td>\n",
       "      <td>0.547641</td>\n",
       "      <td>0.486682</td>\n",
       "      <td>0.554804</td>\n",
       "      <td>0.534257</td>\n",
       "    </tr>\n",
       "    <tr>\n",
       "      <th>review_palette</th>\n",
       "      <td>0.547641</td>\n",
       "      <td>1.000000</td>\n",
       "      <td>0.601948</td>\n",
       "      <td>0.604250</td>\n",
       "      <td>0.706134</td>\n",
       "    </tr>\n",
       "    <tr>\n",
       "      <th>review_overall</th>\n",
       "      <td>0.486682</td>\n",
       "      <td>0.601948</td>\n",
       "      <td>1.000000</td>\n",
       "      <td>0.692432</td>\n",
       "      <td>0.782995</td>\n",
       "    </tr>\n",
       "    <tr>\n",
       "      <th>review_taste</th>\n",
       "      <td>0.554804</td>\n",
       "      <td>0.604250</td>\n",
       "      <td>0.692432</td>\n",
       "      <td>1.000000</td>\n",
       "      <td>0.725251</td>\n",
       "    </tr>\n",
       "    <tr>\n",
       "      <th>review_aroma</th>\n",
       "      <td>0.534257</td>\n",
       "      <td>0.706134</td>\n",
       "      <td>0.782995</td>\n",
       "      <td>0.725251</td>\n",
       "      <td>1.000000</td>\n",
       "    </tr>\n",
       "  </tbody>\n",
       "</table>\n",
       "</div>"
      ],
      "text/plain": [
       "                   review_appearance  review_palette  review_overall  \\\n",
       "review_appearance           1.000000        0.547641        0.486682   \n",
       "review_palette              0.547641        1.000000        0.601948   \n",
       "review_overall              0.486682        0.601948        1.000000   \n",
       "review_taste                0.554804        0.604250        0.692432   \n",
       "review_aroma                0.534257        0.706134        0.782995   \n",
       "\n",
       "                   review_taste  review_aroma  \n",
       "review_appearance      0.554804      0.534257  \n",
       "review_palette         0.604250      0.706134  \n",
       "review_overall         0.692432      0.782995  \n",
       "review_taste           1.000000      0.725251  \n",
       "review_aroma           0.725251      1.000000  "
      ]
     },
     "execution_count": 68,
     "metadata": {},
     "output_type": "execute_result"
    }
   ],
   "source": [
    "df_reviews_all.corr()"
   ]
  },
  {
   "cell_type": "code",
   "execution_count": 69,
   "metadata": {},
   "outputs": [],
   "source": [
    "corr_mask = np.triu(np.ones_like(df_reviews_all.corr(), dtype=bool))"
   ]
  },
  {
   "cell_type": "code",
   "execution_count": 70,
   "metadata": {},
   "outputs": [
    {
     "data": {
      "text/plain": [
       "(array([0.5, 1.5, 2.5, 3.5, 4.5]), <a list of 5 Text yticklabel objects>)"
      ]
     },
     "execution_count": 70,
     "metadata": {},
     "output_type": "execute_result"
    },
    {
     "data": {
      "image/png": "[encoded data removed]",
      "text/plain": [
       "<Figure size 576x360 with 2 Axes>"
      ]
     },
     "metadata": {},
     "output_type": "display_data"
    }
   ],
   "source": [
    "corr_mask = np.triu(np.ones_like(df_reviews_all.corr(), dtype=bool))\n",
    "sns.set_style(\"darkgrid\")\n",
    "plt.figure(figsize=(8,5))\n",
    "plt.title(\"Correlation Heatmap of all Review Features\",fontsize=20)\n",
    "sns.heatmap(df_reviews_all.corr(),mask=corr_mask,annot=True,annot_kws={\"size\": 16})\n",
    "plt.xticks(fontsize=16,rotation=-60)\n",
    "plt.yticks(fontsize=16)\n"
   ]
  },
  {
   "cell_type": "markdown",
   "metadata": {},
   "source": [
    "<font color=blue>*__Observation/Conclusion__*<br>\n",
    "1. From Above Correlation Plot bar Plot we can say that, <br> **__Review_overall__** & **__Review_Aroma__**  are most correlated features with correlation of 0.78 <br></font>"
   ]
  },
  {
   "cell_type": "markdown",
   "metadata": {},
   "source": [
    "### 3.3.3: Q3 Approach 3-VIF: Variation Inflation Factor "
   ]
  },
  {
   "cell_type": "code",
   "execution_count": 71,
   "metadata": {},
   "outputs": [],
   "source": [
    "from statsmodels.stats.outliers_influence import variance_inflation_factor"
   ]
  },
  {
   "cell_type": "code",
   "execution_count": 72,
   "metadata": {},
   "outputs": [],
   "source": [
    "vif_data = pd.DataFrame()\n",
    "vif_data[\"feature\"] = df_reviews_all.columns"
   ]
  },
  {
   "cell_type": "code",
   "execution_count": 73,
   "metadata": {},
   "outputs": [],
   "source": [
    "vif_data[\"VIF\"]=[variance_inflation_factor(df_reviews_all.values, i) for i in range((df_reviews_all.shape[1]))]"
   ]
  },
  {
   "cell_type": "code",
   "execution_count": 74,
   "metadata": {},
   "outputs": [],
   "source": [
    "vif_data.sort_values(\"VIF\",ascending=False,inplace=True)"
   ]
  },
  {
   "cell_type": "code",
   "execution_count": 75,
   "metadata": {},
   "outputs": [
    {
     "data": {
      "text/html": [
       "<div>\n",
       "<style scoped>\n",
       "    .dataframe tbody tr th:only-of-type {\n",
       "        vertical-align: middle;\n",
       "    }\n",
       "\n",
       "    .dataframe tbody tr th {\n",
       "        vertical-align: top;\n",
       "    }\n",
       "\n",
       "    .dataframe thead th {\n",
       "        text-align: right;\n",
       "    }\n",
       "</style>\n",
       "<table border=\"1\" class=\"dataframe\">\n",
       "  <thead>\n",
       "    <tr style=\"text-align: right;\">\n",
       "      <th></th>\n",
       "      <th>feature</th>\n",
       "      <th>VIF</th>\n",
       "    </tr>\n",
       "  </thead>\n",
       "  <tbody>\n",
       "    <tr>\n",
       "      <th>4</th>\n",
       "      <td>review_aroma</td>\n",
       "      <td>107.384740</td>\n",
       "    </tr>\n",
       "    <tr>\n",
       "      <th>2</th>\n",
       "      <td>review_overall</td>\n",
       "      <td>83.676943</td>\n",
       "    </tr>\n",
       "    <tr>\n",
       "      <th>3</th>\n",
       "      <td>review_taste</td>\n",
       "      <td>80.276929</td>\n",
       "    </tr>\n",
       "    <tr>\n",
       "      <th>1</th>\n",
       "      <td>review_palette</td>\n",
       "      <td>66.980315</td>\n",
       "    </tr>\n",
       "    <tr>\n",
       "      <th>0</th>\n",
       "      <td>review_appearance</td>\n",
       "      <td>54.669849</td>\n",
       "    </tr>\n",
       "  </tbody>\n",
       "</table>\n",
       "</div>"
      ],
      "text/plain": [
       "             feature         VIF\n",
       "4       review_aroma  107.384740\n",
       "2     review_overall   83.676943\n",
       "3       review_taste   80.276929\n",
       "1     review_palette   66.980315\n",
       "0  review_appearance   54.669849"
      ]
     },
     "execution_count": 75,
     "metadata": {},
     "output_type": "execute_result"
    }
   ],
   "source": [
    "vif_data"
   ]
  },
  {
   "cell_type": "code",
   "execution_count": 76,
   "metadata": {},
   "outputs": [
    {
     "data": {
      "text/plain": [
       "Text(0, 0.5, 'VIF value')"
      ]
     },
     "execution_count": 76,
     "metadata": {},
     "output_type": "execute_result"
    },
    {
     "data": {
      "image/png": "[encoded data removed]",
      "text/plain": [
       "<Figure size 1080x432 with 1 Axes>"
      ]
     },
     "metadata": {},
     "output_type": "display_data"
    }
   ],
   "source": [
    "vif_data.plot(kind='bar',\n",
    "              x=\"feature\",\n",
    "              figsize=(15,6))\n",
    "plt.title(\"Bar Plot VIF vs Features\",fontsize=18)\n",
    "plt.xlabel(\"Feature\",fontsize=15)\n",
    "plt.ylabel(\"VIF value\",fontsize=15)"
   ]
  },
  {
   "cell_type": "markdown",
   "metadata": {},
   "source": [
    "<font color=blue>*__Observation/Conclusion__*<br>\n",
    "1. From Above VIF bar Plot we can say that **__Review_overall__** & **__Review_Aroma__**  are most correlated features <br></font>"
   ]
  },
  {
   "cell_type": "markdown",
   "metadata": {},
   "source": [
    "## 3.4: Q4- If you were to recommend 3 beers to your friends based on this data which ones will you recommend?"
   ]
  },
  {
   "cell_type": "markdown",
   "metadata": {},
   "source": [
    "### 3.4.1 Q4- Approach 1 "
   ]
  },
  {
   "cell_type": "code",
   "execution_count": 77,
   "metadata": {},
   "outputs": [
    {
     "data": {
      "text/plain": [
       "Index(['beer_ABV', 'beer_beerId', 'beer_brewerId', 'beer_name', 'beer_style',\n",
       "       'review_appearance', 'review_palette', 'review_overall', 'review_taste',\n",
       "       'review_profileName', 'review_aroma', 'review_text', 'review_time',\n",
       "       'date', 'year'],\n",
       "      dtype='object')"
      ]
     },
     "execution_count": 77,
     "metadata": {},
     "output_type": "execute_result"
    }
   ],
   "source": [
    "data.columns"
   ]
  },
  {
   "cell_type": "code",
   "execution_count": 78,
   "metadata": {},
   "outputs": [],
   "source": [
    "df_beer_name_ol_review=data[['beer_name','review_overall']]"
   ]
  },
  {
   "cell_type": "code",
   "execution_count": 79,
   "metadata": {},
   "outputs": [
    {
     "data": {
      "text/plain": [
       "beer_name\n",
       "\"100\" Pale Ale                            4.000000\n",
       "\"33\" Export                               3.000000\n",
       "\"76\" Anniversary Ale                      4.000000\n",
       "\"76\" Anniversary Ale With English Hops    4.000000\n",
       "\"Fade To Black\" Porter                    4.000000\n",
       "                                            ...   \n",
       "Über Pils                                 4.057018\n",
       "ÜberFest Pilsner                          4.000000\n",
       "ÜberSun (Imperial Summer Wheat Beer)      4.060086\n",
       "à L'Agave Et Au Citron Vert               2.500000\n",
       "überPils                                  3.857143\n",
       "Name: review_overall, Length: 18339, dtype: float64"
      ]
     },
     "execution_count": 79,
     "metadata": {},
     "output_type": "execute_result"
    }
   ],
   "source": [
    "df_beer_name_ol_review.groupby('beer_name')[\"review_overall\"].mean()"
   ]
  },
  {
   "cell_type": "code",
   "execution_count": 80,
   "metadata": {},
   "outputs": [
    {
     "data": {
      "text/plain": [
       "beer_name\n",
       "Fat Bottom Ale                                                    5.0\n",
       "Schwindel Alt                                                     5.0\n",
       "Quaker Oatmeal Stout                                              5.0\n",
       "Kösslarn Hefeweisse                                               5.0\n",
       "Celtic Red                                                        5.0\n",
       "Yarmouth Town Brown                                               5.0\n",
       "Cellar Door With Pineapple And Dry-hopped With Citra And Perle    5.0\n",
       "Becken Beer Dunkel Bock                                           5.0\n",
       "Boiler Room Golden Ale                                            5.0\n",
       "Spicy Plum Sour Ale                                               5.0\n",
       "Willamette Pale Ale                                               5.0\n",
       "Sierra Nevada Oaked Imperial Porter                               5.0\n",
       "HopCat Raging Centaur                                             5.0\n",
       "Cauldron Brew                                                     5.0\n",
       "Czechmate Ale                                                     5.0\n",
       "Frostbite Ice                                                     5.0\n",
       "Mother Pucker                                                     5.0\n",
       "Fritzkrieg Hop IPA                                                5.0\n",
       "Replic Ale (2010)                                                 5.0\n",
       "Guava Grove - Wild                                                5.0\n",
       "Skull And Bones Foxy                                              5.0\n",
       "McBane's Strawberry Wit                                           5.0\n",
       "Høst Bryg Kirsebær                                                5.0\n",
       "Wexford Wheat                                                     5.0\n",
       "Ramstein Project Z                                                5.0\n",
       "Hopback Amber (Simcoe Dry Hopped)                                 5.0\n",
       "Cask-conditioned Oatmeal Stout                                    5.0\n",
       "Mango Double Simcoe                                               5.0\n",
       "Wet Hop Citra Ale                                                 5.0\n",
       "Lemon Light                                                       5.0\n",
       "Bubba Imperial Pilsner                                            5.0\n",
       "Grand Cru 2004                                                    5.0\n",
       "Fuggit Stout                                                      5.0\n",
       "Roth Weissbier Premium                                            5.0\n",
       "Graf Arco Arcolator                                               5.0\n",
       "Golding Bitter                                                    5.0\n",
       "Spring Forward Fall Bock                                          5.0\n",
       "Dunkel Keller                                                     5.0\n",
       "Banana Wheat                                                      5.0\n",
       "Goodes Highland Scotch Ale                                        5.0\n",
       "Snowplow                                                          5.0\n",
       "Belgian Siberian Night Imperial Stout Aged On Cherries            5.0\n",
       "Galaxy Golden Ale                                                 5.0\n",
       "MELVIN India Pale Ale                                             5.0\n",
       "Triplexxx                                                         5.0\n",
       "Tado Helles                                                       5.0\n",
       "Triple OOO                                                        5.0\n",
       "Jai Alai IPA - Strawberry-Kiwi                                    5.0\n",
       "Tado Dunkel                                                       5.0\n",
       "Ramstein India Pale Ale                                           5.0\n",
       "Name: review_overall, dtype: float64"
      ]
     },
     "execution_count": 80,
     "metadata": {},
     "output_type": "execute_result"
    }
   ],
   "source": [
    "df_beer_name_ol_review.groupby('beer_name')[\"review_overall\"].mean().sort_values(ascending=False).head(50)"
   ]
  },
  {
   "cell_type": "markdown",
   "metadata": {},
   "source": [
    "<font color=blue>*__Observation/Conclusion__*<br></font>\n",
    "<font color=red> 1. Based on the Overall Review we cannot come to conclusion because all top beers is having Review_overall rating 5.  <br> </font>"
   ]
  },
  {
   "cell_type": "markdown",
   "metadata": {},
   "source": [
    "### 3.4.2 Q4- Approach 2  with Beer_ABV & review_overall Feature"
   ]
  },
  {
   "cell_type": "code",
   "execution_count": 81,
   "metadata": {},
   "outputs": [],
   "source": [
    "df_ABV_beer_name_ol_review=data[[\"beer_ABV\",'beer_name','review_overall']]"
   ]
  },
  {
   "cell_type": "code",
   "execution_count": 82,
   "metadata": {},
   "outputs": [
    {
     "data": {
      "text/html": [
       "<div>\n",
       "<style scoped>\n",
       "    .dataframe tbody tr th:only-of-type {\n",
       "        vertical-align: middle;\n",
       "    }\n",
       "\n",
       "    .dataframe tbody tr th {\n",
       "        vertical-align: top;\n",
       "    }\n",
       "\n",
       "    .dataframe thead th {\n",
       "        text-align: right;\n",
       "    }\n",
       "</style>\n",
       "<table border=\"1\" class=\"dataframe\">\n",
       "  <thead>\n",
       "    <tr style=\"text-align: right;\">\n",
       "      <th></th>\n",
       "      <th>beer_ABV</th>\n",
       "      <th>beer_name</th>\n",
       "      <th>review_overall</th>\n",
       "    </tr>\n",
       "  </thead>\n",
       "  <tbody>\n",
       "    <tr>\n",
       "      <th>0</th>\n",
       "      <td>5.0</td>\n",
       "      <td>Sausa Weizen</td>\n",
       "      <td>1.5</td>\n",
       "    </tr>\n",
       "    <tr>\n",
       "      <th>1</th>\n",
       "      <td>6.2</td>\n",
       "      <td>Red Moon</td>\n",
       "      <td>3.0</td>\n",
       "    </tr>\n",
       "  </tbody>\n",
       "</table>\n",
       "</div>"
      ],
      "text/plain": [
       "   beer_ABV     beer_name  review_overall\n",
       "0       5.0  Sausa Weizen             1.5\n",
       "1       6.2      Red Moon             3.0"
      ]
     },
     "execution_count": 82,
     "metadata": {},
     "output_type": "execute_result"
    }
   ],
   "source": [
    "df_ABV_beer_name_ol_review.head(2)"
   ]
  },
  {
   "cell_type": "code",
   "execution_count": 83,
   "metadata": {},
   "outputs": [],
   "source": [
    "df_best_beers=df_ABV_beer_name_ol_review \\\n",
    "              .groupby(('beer_name'))['review_overall',\n",
    "                                      'beer_ABV'] \\\n",
    "                                      .mean() \\\n",
    "                                      .reset_index() \\\n",
    "                                      .sort_values(by=['review_overall',\n",
    "                                                       'beer_ABV'],ascending=False)"
   ]
  },
  {
   "cell_type": "code",
   "execution_count": 84,
   "metadata": {},
   "outputs": [
    {
     "data": {
      "text/html": [
       "<div>\n",
       "<style scoped>\n",
       "    .dataframe tbody tr th:only-of-type {\n",
       "        vertical-align: middle;\n",
       "    }\n",
       "\n",
       "    .dataframe tbody tr th {\n",
       "        vertical-align: top;\n",
       "    }\n",
       "\n",
       "    .dataframe thead th {\n",
       "        text-align: right;\n",
       "    }\n",
       "</style>\n",
       "<table border=\"1\" class=\"dataframe\">\n",
       "  <thead>\n",
       "    <tr style=\"text-align: right;\">\n",
       "      <th></th>\n",
       "      <th>beer_name</th>\n",
       "      <th>review_overall</th>\n",
       "      <th>beer_ABV</th>\n",
       "    </tr>\n",
       "  </thead>\n",
       "  <tbody>\n",
       "    <tr>\n",
       "      <th>582</th>\n",
       "      <td>AleSmith Speedway Stout - Oak Aged</td>\n",
       "      <td>5.0</td>\n",
       "      <td>12.0</td>\n",
       "    </tr>\n",
       "    <tr>\n",
       "      <th>12616</th>\n",
       "      <td>Pilot Series Imperial Sweet Stout - Palm Ridge...</td>\n",
       "      <td>5.0</td>\n",
       "      <td>12.0</td>\n",
       "    </tr>\n",
       "    <tr>\n",
       "      <th>1764</th>\n",
       "      <td>Bees Knees Barleywine</td>\n",
       "      <td>5.0</td>\n",
       "      <td>11.2</td>\n",
       "    </tr>\n",
       "  </tbody>\n",
       "</table>\n",
       "</div>"
      ],
      "text/plain": [
       "                                               beer_name  review_overall  \\\n",
       "582                   AleSmith Speedway Stout - Oak Aged             5.0   \n",
       "12616  Pilot Series Imperial Sweet Stout - Palm Ridge...             5.0   \n",
       "1764                               Bees Knees Barleywine             5.0   \n",
       "\n",
       "       beer_ABV  \n",
       "582        12.0  \n",
       "12616      12.0  \n",
       "1764       11.2  "
      ]
     },
     "execution_count": 84,
     "metadata": {},
     "output_type": "execute_result"
    }
   ],
   "source": [
    "df_best_beers.head(3)"
   ]
  },
  {
   "cell_type": "markdown",
   "metadata": {},
   "source": [
    "<font color=blue>*__Observation/Conclusion__*<br>\n",
    "1. Based on the Reviews Overall Review & Alcohol by Volume(Beer_ABV) will recommmend the beer to friends as follows<br>\n",
    "    a. AleSmith Speedway Stout - Oak Aged <br>\n",
    "    b. Pilot Series Imperial Sweet Stout - Palm Ridge<br>\n",
    "    c. Bees Knees Barleywine</font>"
   ]
  },
  {
   "cell_type": "markdown",
   "metadata": {},
   "source": [
    "### 3.4.3 Q4- Approach 3 with all reviews & beer_ABV Features"
   ]
  },
  {
   "cell_type": "code",
   "execution_count": 85,
   "metadata": {},
   "outputs": [
    {
     "data": {
      "text/plain": [
       "Index(['beer_ABV', 'beer_beerId', 'beer_brewerId', 'beer_name', 'beer_style',\n",
       "       'review_appearance', 'review_palette', 'review_overall', 'review_taste',\n",
       "       'review_profileName', 'review_aroma', 'review_text', 'review_time',\n",
       "       'date', 'year'],\n",
       "      dtype='object')"
      ]
     },
     "execution_count": 85,
     "metadata": {},
     "output_type": "execute_result"
    }
   ],
   "source": [
    "data.columns"
   ]
  },
  {
   "cell_type": "code",
   "execution_count": 86,
   "metadata": {},
   "outputs": [
    {
     "data": {
      "text/plain": [
       "('review_appearance', 'review_palette', 'review_taste', 'review_aroma')"
      ]
     },
     "execution_count": 86,
     "metadata": {},
     "output_type": "execute_result"
    }
   ],
   "source": [
    "'review_appearance', 'review_palette', 'review_taste','review_aroma'"
   ]
  },
  {
   "cell_type": "code",
   "execution_count": 87,
   "metadata": {},
   "outputs": [],
   "source": [
    "df_ABV_beer_name_ol_review_1=data[['beer_name',\n",
    "                                   'review_overall',\n",
    "                                   'review_aroma',\n",
    "                                   'review_taste',\n",
    "                                   \"review_appearance\",\n",
    "                                   \"beer_ABV\"]]"
   ]
  },
  {
   "cell_type": "code",
   "execution_count": 88,
   "metadata": {},
   "outputs": [
    {
     "data": {
      "text/html": [
       "<div>\n",
       "<style scoped>\n",
       "    .dataframe tbody tr th:only-of-type {\n",
       "        vertical-align: middle;\n",
       "    }\n",
       "\n",
       "    .dataframe tbody tr th {\n",
       "        vertical-align: top;\n",
       "    }\n",
       "\n",
       "    .dataframe thead th {\n",
       "        text-align: right;\n",
       "    }\n",
       "</style>\n",
       "<table border=\"1\" class=\"dataframe\">\n",
       "  <thead>\n",
       "    <tr style=\"text-align: right;\">\n",
       "      <th></th>\n",
       "      <th>beer_name</th>\n",
       "      <th>review_overall</th>\n",
       "      <th>review_aroma</th>\n",
       "      <th>review_taste</th>\n",
       "      <th>review_appearance</th>\n",
       "      <th>beer_ABV</th>\n",
       "    </tr>\n",
       "  </thead>\n",
       "  <tbody>\n",
       "    <tr>\n",
       "      <th>0</th>\n",
       "      <td>Sausa Weizen</td>\n",
       "      <td>1.5</td>\n",
       "      <td>1.5</td>\n",
       "      <td>1.5</td>\n",
       "      <td>2.5</td>\n",
       "      <td>5.0</td>\n",
       "    </tr>\n",
       "    <tr>\n",
       "      <th>1</th>\n",
       "      <td>Red Moon</td>\n",
       "      <td>3.0</td>\n",
       "      <td>3.0</td>\n",
       "      <td>3.0</td>\n",
       "      <td>3.0</td>\n",
       "      <td>6.2</td>\n",
       "    </tr>\n",
       "  </tbody>\n",
       "</table>\n",
       "</div>"
      ],
      "text/plain": [
       "      beer_name  review_overall  review_aroma  review_taste  \\\n",
       "0  Sausa Weizen             1.5           1.5           1.5   \n",
       "1      Red Moon             3.0           3.0           3.0   \n",
       "\n",
       "   review_appearance  beer_ABV  \n",
       "0                2.5       5.0  \n",
       "1                3.0       6.2  "
      ]
     },
     "execution_count": 88,
     "metadata": {},
     "output_type": "execute_result"
    }
   ],
   "source": [
    "df_ABV_beer_name_ol_review_1.head(2)"
   ]
  },
  {
   "cell_type": "code",
   "execution_count": 89,
   "metadata": {},
   "outputs": [],
   "source": [
    "df_best_beers_all=df_ABV_beer_name_ol_review_1 \\\n",
    "                  .groupby(('beer_name'))['review_overall',\n",
    "                                          'review_aroma',\n",
    "                                          'review_taste',\n",
    "                                          \"review_appearance\",\n",
    "                                          \"beer_ABV\"] \\\n",
    "                                                      .mean() \\\n",
    "                                                      .reset_index() \\\n",
    "                                                      .sort_values(by=['review_overall',\n",
    "                                                                       'review_aroma',\n",
    "                                                                       'review_taste',\n",
    "                                                                       \"review_appearance\",\n",
    "                                                                       \"beer_ABV\"],\n",
    "                                                                   ascending=False)"
   ]
  },
  {
   "cell_type": "code",
   "execution_count": 90,
   "metadata": {},
   "outputs": [
    {
     "data": {
      "text/html": [
       "<div>\n",
       "<style scoped>\n",
       "    .dataframe tbody tr th:only-of-type {\n",
       "        vertical-align: middle;\n",
       "    }\n",
       "\n",
       "    .dataframe tbody tr th {\n",
       "        vertical-align: top;\n",
       "    }\n",
       "\n",
       "    .dataframe thead th {\n",
       "        text-align: right;\n",
       "    }\n",
       "</style>\n",
       "<table border=\"1\" class=\"dataframe\">\n",
       "  <thead>\n",
       "    <tr style=\"text-align: right;\">\n",
       "      <th></th>\n",
       "      <th>beer_name</th>\n",
       "      <th>review_overall</th>\n",
       "      <th>review_aroma</th>\n",
       "      <th>review_taste</th>\n",
       "      <th>review_appearance</th>\n",
       "      <th>beer_ABV</th>\n",
       "    </tr>\n",
       "  </thead>\n",
       "  <tbody>\n",
       "    <tr>\n",
       "      <th>5394</th>\n",
       "      <td>Edsten Triple-Wit</td>\n",
       "      <td>5.0</td>\n",
       "      <td>5.0</td>\n",
       "      <td>5.0</td>\n",
       "      <td>5.0</td>\n",
       "      <td>10.0</td>\n",
       "    </tr>\n",
       "    <tr>\n",
       "      <th>11912</th>\n",
       "      <td>Old Gander Barley Wine</td>\n",
       "      <td>5.0</td>\n",
       "      <td>5.0</td>\n",
       "      <td>5.0</td>\n",
       "      <td>5.0</td>\n",
       "      <td>9.5</td>\n",
       "    </tr>\n",
       "    <tr>\n",
       "      <th>13725</th>\n",
       "      <td>Rogue Black Brutal</td>\n",
       "      <td>5.0</td>\n",
       "      <td>5.0</td>\n",
       "      <td>5.0</td>\n",
       "      <td>5.0</td>\n",
       "      <td>9.0</td>\n",
       "    </tr>\n",
       "  </tbody>\n",
       "</table>\n",
       "</div>"
      ],
      "text/plain": [
       "                    beer_name  review_overall  review_aroma  review_taste  \\\n",
       "5394        Edsten Triple-Wit             5.0           5.0           5.0   \n",
       "11912  Old Gander Barley Wine             5.0           5.0           5.0   \n",
       "13725      Rogue Black Brutal             5.0           5.0           5.0   \n",
       "\n",
       "       review_appearance  beer_ABV  \n",
       "5394                 5.0      10.0  \n",
       "11912                5.0       9.5  \n",
       "13725                5.0       9.0  "
      ]
     },
     "execution_count": 90,
     "metadata": {},
     "output_type": "execute_result"
    }
   ],
   "source": [
    "df_best_beers_all.head(3)"
   ]
  },
  {
   "cell_type": "markdown",
   "metadata": {},
   "source": [
    "<font color=blue>*__Observation/Conclusion__*<br>\n",
    "1. Based on the all Reviews & Alcohol by Volume(Beer_ABV) will recommmend the beer to friends as follows<br>\n",
    "    a. Edsten Triple-Wit\t<br>\n",
    "    b. Old Gander Barley Wine <br>\n",
    "    c. Rogue Black Brutal\n",
    "</font>"
   ]
  },
  {
   "cell_type": "markdown",
   "metadata": {},
   "source": [
    "## 3.5: Q5- Which Beer style seems to be the favorite based on reviews written by users?"
   ]
  },
  {
   "cell_type": "markdown",
   "metadata": {},
   "source": [
    "### 3.5.1 Decontration Function"
   ]
  },
  {
   "cell_type": "code",
   "execution_count": 91,
   "metadata": {},
   "outputs": [],
   "source": [
    "#https://stackoverflow.com/questions/19790188/expanding-english-language-contractions-in-python\n",
    "import re\n",
    "\n",
    "def decontracted(phrase):\n",
    "    phrase = re.sub(r\"won't\", \"will not\", phrase)\n",
    "    phrase = re.sub(r\"can\\'t\", \"can not\", phrase)\n",
    "    phrase = re.sub(r\"n\\'t\", \" not\", phrase)\n",
    "    phrase = re.sub(r\"\\'re\", \" are\", phrase)\n",
    "    phrase = re.sub(r\"\\'s\", \" is\", phrase)\n",
    "    phrase = re.sub(r\"\\'d\", \" would\", phrase)\n",
    "    phrase = re.sub(r\"\\'ll\", \" will\", phrase)\n",
    "    phrase = re.sub(r\"\\'t\", \" not\", phrase)\n",
    "    phrase = re.sub(r\"\\'ve\", \" have\", phrase)\n",
    "    phrase = re.sub(r\"\\'m\", \" am\", phrase)\n",
    "    phrase = re.sub('[^A-Za-z0-9]+', ' ', phrase)\n",
    "    phrase = phrase.replace('\\\\r', ' ')\n",
    "    phrase = phrase.replace('\\\\\"', ' ')\n",
    "    phrase = phrase.replace('\\\\n', ' ')\n",
    "    return phrase"
   ]
  },
  {
   "cell_type": "code",
   "execution_count": 92,
   "metadata": {},
   "outputs": [
    {
     "data": {
      "text/plain": [
       "Index(['beer_ABV', 'beer_beerId', 'beer_brewerId', 'beer_name', 'beer_style',\n",
       "       'review_appearance', 'review_palette', 'review_overall', 'review_taste',\n",
       "       'review_profileName', 'review_aroma', 'review_text', 'review_time',\n",
       "       'date', 'year'],\n",
       "      dtype='object')"
      ]
     },
     "execution_count": 92,
     "metadata": {},
     "output_type": "execute_result"
    }
   ],
   "source": [
    "data.columns"
   ]
  },
  {
   "cell_type": "code",
   "execution_count": 93,
   "metadata": {},
   "outputs": [
    {
     "data": {
      "text/plain": [
       "0"
      ]
     },
     "execution_count": 93,
     "metadata": {},
     "output_type": "execute_result"
    }
   ],
   "source": [
    "data['review_text'].isna().sum()"
   ]
  },
  {
   "cell_type": "code",
   "execution_count": 94,
   "metadata": {},
   "outputs": [
    {
     "name": "stdout",
     "output_type": "stream",
     "text": [
      "Wall time: 1min 19s\n"
     ]
    }
   ],
   "source": [
    "%%time\n",
    "data['cleaned_text']=data['review_text'].apply(decontracted)"
   ]
  },
  {
   "cell_type": "code",
   "execution_count": 95,
   "metadata": {},
   "outputs": [
    {
     "data": {
      "text/plain": [
       "0    A lot of foam But a lot In the smell some bana...\n",
       "1    Dark red color light beige foam average In the...\n",
       "2    Almost totally black Beige foam quite compact ...\n",
       "3    Golden yellow color White compact foam quite c...\n",
       "4    According to the website the style for the Cal...\n",
       "Name: cleaned_text, dtype: object"
      ]
     },
     "execution_count": 95,
     "metadata": {},
     "output_type": "execute_result"
    }
   ],
   "source": [
    "data['cleaned_text'].head()"
   ]
  },
  {
   "cell_type": "code",
   "execution_count": 96,
   "metadata": {},
   "outputs": [],
   "source": [
    "data['cleaned_text']=data['cleaned_text'].apply(lambda text: text.lower()) "
   ]
  },
  {
   "cell_type": "code",
   "execution_count": 97,
   "metadata": {},
   "outputs": [
    {
     "data": {
      "text/plain": [
       "0    a lot of foam but a lot in the smell some bana...\n",
       "1    dark red color light beige foam average in the...\n",
       "2    almost totally black beige foam quite compact ...\n",
       "3    golden yellow color white compact foam quite c...\n",
       "4    according to the website the style for the cal...\n",
       "Name: cleaned_text, dtype: object"
      ]
     },
     "execution_count": 97,
     "metadata": {},
     "output_type": "execute_result"
    }
   ],
   "source": [
    "data['cleaned_text'].head()"
   ]
  },
  {
   "cell_type": "markdown",
   "metadata": {},
   "source": [
    "### 3.5.2 Stop Word Removal"
   ]
  },
  {
   "cell_type": "code",
   "execution_count": 98,
   "metadata": {},
   "outputs": [],
   "source": [
    "stopwords= ['i', 'me', 'my', 'myself', 'we', 'our', 'ours', 'ourselves', 'you', \"you're\", \"you've\",\\\n",
    "            \"you'll\", \"you'd\", 'your', 'yours', 'yourself', 'yourselves', 'he', 'him', 'his', 'himself', \\\n",
    "            'she', \"she's\", 'her', 'hers', 'herself', 'it', \"it's\", 'its', 'itself', 'they', 'them', 'their',\\\n",
    "            'theirs', 'themselves', 'what', 'which', 'who', 'whom', 'this', 'that', \"that'll\", 'these', 'those', \\\n",
    "            'am', 'is', 'are', 'was', 'were', 'be', 'been', 'being', 'have', 'has', 'had', 'having', 'do', 'does', \\\n",
    "            'did', 'doing', 'a', 'an', 'the', 'and', 'but', 'if', 'or', 'because', 'as', 'until', 'while', 'of', \\\n",
    "            'at', 'by', 'for', 'with', 'about', 'against', 'between', 'into', 'through', 'during', 'before', 'after',\\\n",
    "            'above', 'below', 'to', 'from', 'up', 'down', 'in', 'out', 'on', 'off', 'over', 'under', 'again', 'further',\\\n",
    "            'then', 'once', 'here', 'there', 'when', 'where', 'why', 'how', 'all', 'any', 'both', 'each', 'few', 'more',\\\n",
    "            'most', 'other', 'some', 'such', 'only', 'own', 'same', 'so', 'than', 'too', 'very', \\\n",
    "            's', 't', 'can', 'will', 'just', 'don', \"don't\", 'should', \"should've\", 'now', 'd', 'll', 'm', 'o', 're']"
   ]
  },
  {
   "cell_type": "code",
   "execution_count": 99,
   "metadata": {},
   "outputs": [],
   "source": [
    "data['cleaned_text']=data['cleaned_text'].apply(lambda text: \" \".join([word for word in text.split() if word not in stopwords]))"
   ]
  },
  {
   "cell_type": "code",
   "execution_count": 100,
   "metadata": {},
   "outputs": [
    {
     "data": {
      "text/plain": [
       "0    lot foam lot smell banana lactic tart not good...\n",
       "1    dark red color light beige foam average smell ...\n",
       "2    almost totally black beige foam quite compact ...\n",
       "3    golden yellow color white compact foam quite c...\n",
       "4    according website style caldera cauldron chang...\n",
       "Name: cleaned_text, dtype: object"
      ]
     },
     "execution_count": 100,
     "metadata": {},
     "output_type": "execute_result"
    }
   ],
   "source": [
    "data['cleaned_text'].head()"
   ]
  },
  {
   "cell_type": "markdown",
   "metadata": {},
   "source": [
    "### 3.5.3 Vader Sentiment Analyzer"
   ]
  },
  {
   "cell_type": "code",
   "execution_count": 101,
   "metadata": {},
   "outputs": [],
   "source": [
    "#topic:Vader_Sentiment vs TextBlob: https://pub.towardsai.net/textblob-vs-vader-for-sentiment-analysis-using-python-76883d40f9ae"
   ]
  },
  {
   "cell_type": "code",
   "execution_count": 102,
   "metadata": {},
   "outputs": [
    {
     "name": "stderr",
     "output_type": "stream",
     "text": [
      "[nltk_data] Downloading package vader_lexicon to C:\\Users\\DR SNEHAL\n",
      "[nltk_data]     BANKAR\\AppData\\Roaming\\nltk_data...\n",
      "[nltk_data]   Package vader_lexicon is already up-to-date!\n"
     ]
    },
    {
     "data": {
      "text/plain": [
       "True"
      ]
     },
     "execution_count": 102,
     "metadata": {},
     "output_type": "execute_result"
    }
   ],
   "source": [
    "import nltk\n",
    "from nltk.sentiment.vader import SentimentIntensityAnalyzer\n",
    "nltk.download('vader_lexicon')"
   ]
  },
  {
   "cell_type": "code",
   "execution_count": 103,
   "metadata": {},
   "outputs": [],
   "source": [
    "data['text_sentiment_score'] = 0.0"
   ]
  },
  {
   "cell_type": "code",
   "execution_count": 104,
   "metadata": {},
   "outputs": [],
   "source": [
    "sentiment_analyzer = SentimentIntensityAnalyzer()"
   ]
  },
  {
   "cell_type": "code",
   "execution_count": 105,
   "metadata": {},
   "outputs": [
    {
     "data": {
      "text/plain": [
       "'lot foam lot smell banana lactic tart not good start quite dark orange color lively carbonation visible foam tending lactic sourness taste yeast banana'"
      ]
     },
     "execution_count": 105,
     "metadata": {},
     "output_type": "execute_result"
    }
   ],
   "source": [
    "data['cleaned_text'][0]"
   ]
  },
  {
   "cell_type": "code",
   "execution_count": 106,
   "metadata": {},
   "outputs": [
    {
     "data": {
      "text/plain": [
       "0.1265"
      ]
     },
     "execution_count": 106,
     "metadata": {},
     "output_type": "execute_result"
    }
   ],
   "source": [
    "sentiment_analyzer.polarity_scores(data['cleaned_text'][0])['compound']"
   ]
  },
  {
   "cell_type": "code",
   "execution_count": 107,
   "metadata": {},
   "outputs": [],
   "source": [
    "def vader_sentiment_ana(text):\n",
    "    return sentiment_analyzer.polarity_scores(text)['compound']"
   ]
  },
  {
   "cell_type": "code",
   "execution_count": 108,
   "metadata": {},
   "outputs": [
    {
     "name": "stdout",
     "output_type": "stream",
     "text": [
      "Wall time: 18min 31s\n"
     ]
    }
   ],
   "source": [
    "%%time\n",
    "data['text_sentiment_score']=data['cleaned_text'].apply(vader_sentiment_ana)"
   ]
  },
  {
   "cell_type": "code",
   "execution_count": 109,
   "metadata": {},
   "outputs": [
    {
     "data": {
      "text/html": [
       "<div>\n",
       "<style scoped>\n",
       "    .dataframe tbody tr th:only-of-type {\n",
       "        vertical-align: middle;\n",
       "    }\n",
       "\n",
       "    .dataframe tbody tr th {\n",
       "        vertical-align: top;\n",
       "    }\n",
       "\n",
       "    .dataframe thead th {\n",
       "        text-align: right;\n",
       "    }\n",
       "</style>\n",
       "<table border=\"1\" class=\"dataframe\">\n",
       "  <thead>\n",
       "    <tr style=\"text-align: right;\">\n",
       "      <th></th>\n",
       "      <th>beer_ABV</th>\n",
       "      <th>beer_beerId</th>\n",
       "      <th>beer_brewerId</th>\n",
       "      <th>beer_name</th>\n",
       "      <th>beer_style</th>\n",
       "      <th>review_appearance</th>\n",
       "      <th>review_palette</th>\n",
       "      <th>review_overall</th>\n",
       "      <th>review_taste</th>\n",
       "      <th>review_profileName</th>\n",
       "      <th>review_aroma</th>\n",
       "      <th>review_text</th>\n",
       "      <th>review_time</th>\n",
       "      <th>date</th>\n",
       "      <th>year</th>\n",
       "      <th>cleaned_text</th>\n",
       "      <th>text_sentiment_score</th>\n",
       "    </tr>\n",
       "  </thead>\n",
       "  <tbody>\n",
       "    <tr>\n",
       "      <th>528868</th>\n",
       "      <td>7.017442</td>\n",
       "      <td>4032</td>\n",
       "      <td>3340</td>\n",
       "      <td>Dinkel Acker Dark</td>\n",
       "      <td>Munich Dunkel Lager</td>\n",
       "      <td>4.0</td>\n",
       "      <td>3.0</td>\n",
       "      <td>4.0</td>\n",
       "      <td>4.0</td>\n",
       "      <td>Dodo2step</td>\n",
       "      <td>4.5</td>\n",
       "      <td>Purchased at Market Cross Pub in carlisle, PA....</td>\n",
       "      <td>1201215290</td>\n",
       "      <td>2008-01-24 22:54:50</td>\n",
       "      <td>2008</td>\n",
       "      <td>purchased market cross pub carlisle pa one fri...</td>\n",
       "      <td>0.9221</td>\n",
       "    </tr>\n",
       "    <tr>\n",
       "      <th>528869</th>\n",
       "      <td>7.017442</td>\n",
       "      <td>4032</td>\n",
       "      <td>3340</td>\n",
       "      <td>Dinkel Acker Dark</td>\n",
       "      <td>Munich Dunkel Lager</td>\n",
       "      <td>4.0</td>\n",
       "      <td>4.0</td>\n",
       "      <td>4.0</td>\n",
       "      <td>4.0</td>\n",
       "      <td>jenbys2001</td>\n",
       "      <td>4.0</td>\n",
       "      <td>I ordered a mug of this beer at Schnitzelhaus,...</td>\n",
       "      <td>1200336367</td>\n",
       "      <td>2008-01-14 18:46:07</td>\n",
       "      <td>2008</td>\n",
       "      <td>ordered mug beer schnitzelhaus local german re...</td>\n",
       "      <td>0.8610</td>\n",
       "    </tr>\n",
       "  </tbody>\n",
       "</table>\n",
       "</div>"
      ],
      "text/plain": [
       "        beer_ABV  beer_beerId  beer_brewerId          beer_name  \\\n",
       "528868  7.017442         4032           3340  Dinkel Acker Dark   \n",
       "528869  7.017442         4032           3340  Dinkel Acker Dark   \n",
       "\n",
       "                 beer_style  review_appearance  review_palette  \\\n",
       "528868  Munich Dunkel Lager                4.0             3.0   \n",
       "528869  Munich Dunkel Lager                4.0             4.0   \n",
       "\n",
       "        review_overall  review_taste review_profileName  review_aroma  \\\n",
       "528868             4.0           4.0          Dodo2step           4.5   \n",
       "528869             4.0           4.0         jenbys2001           4.0   \n",
       "\n",
       "                                              review_text  review_time  \\\n",
       "528868  Purchased at Market Cross Pub in carlisle, PA....   1201215290   \n",
       "528869  I ordered a mug of this beer at Schnitzelhaus,...   1200336367   \n",
       "\n",
       "                      date  year  \\\n",
       "528868 2008-01-24 22:54:50  2008   \n",
       "528869 2008-01-14 18:46:07  2008   \n",
       "\n",
       "                                             cleaned_text  \\\n",
       "528868  purchased market cross pub carlisle pa one fri...   \n",
       "528869  ordered mug beer schnitzelhaus local german re...   \n",
       "\n",
       "        text_sentiment_score  \n",
       "528868                0.9221  \n",
       "528869                0.8610  "
      ]
     },
     "execution_count": 109,
     "metadata": {},
     "output_type": "execute_result"
    }
   ],
   "source": [
    "data.tail(2)"
   ]
  },
  {
   "cell_type": "code",
   "execution_count": 110,
   "metadata": {},
   "outputs": [],
   "source": [
    "#data.to_csv(\"Cleaned_Beer_Dataset.csv\")"
   ]
  },
  {
   "cell_type": "code",
   "execution_count": 111,
   "metadata": {},
   "outputs": [
    {
     "data": {
      "text/html": [
       "<div>\n",
       "<style scoped>\n",
       "    .dataframe tbody tr th:only-of-type {\n",
       "        vertical-align: middle;\n",
       "    }\n",
       "\n",
       "    .dataframe tbody tr th {\n",
       "        vertical-align: top;\n",
       "    }\n",
       "\n",
       "    .dataframe thead th {\n",
       "        text-align: right;\n",
       "    }\n",
       "</style>\n",
       "<table border=\"1\" class=\"dataframe\">\n",
       "  <thead>\n",
       "    <tr style=\"text-align: right;\">\n",
       "      <th></th>\n",
       "      <th>text_sentiment_score</th>\n",
       "    </tr>\n",
       "    <tr>\n",
       "      <th>beer_style</th>\n",
       "      <th></th>\n",
       "    </tr>\n",
       "  </thead>\n",
       "  <tbody>\n",
       "    <tr>\n",
       "      <th>Braggot</th>\n",
       "      <td>0.863941</td>\n",
       "    </tr>\n",
       "    <tr>\n",
       "      <th>Quadrupel (Quad)</th>\n",
       "      <td>0.863022</td>\n",
       "    </tr>\n",
       "  </tbody>\n",
       "</table>\n",
       "</div>"
      ],
      "text/plain": [
       "                  text_sentiment_score\n",
       "beer_style                            \n",
       "Braggot                       0.863941\n",
       "Quadrupel (Quad)              0.863022"
      ]
     },
     "execution_count": 111,
     "metadata": {},
     "output_type": "execute_result"
    }
   ],
   "source": [
    "pd.DataFrame(data.groupby('beer_style')['text_sentiment_score'].mean().sort_values(ascending=False)).head(2)"
   ]
  },
  {
   "cell_type": "markdown",
   "metadata": {},
   "source": [
    "<font color=blue>*__Observation/Conclusion__*<br>\n",
    "1. Review Text Sentiment is calculated using Vader Sentiment Analyzer<br>\n",
    "2. For the *__Braggot__* beer_style, the average senitiment score is max i.e. 0.863941  <br>\n",
    "</font>"
   ]
  },
  {
   "cell_type": "markdown",
   "metadata": {},
   "source": [
    "## 3.6: Q6- How does written review compare to overall review score for the beer styles?"
   ]
  },
  {
   "cell_type": "code",
   "execution_count": 112,
   "metadata": {},
   "outputs": [
    {
     "data": {
      "text/html": [
       "<div>\n",
       "<style scoped>\n",
       "    .dataframe tbody tr th:only-of-type {\n",
       "        vertical-align: middle;\n",
       "    }\n",
       "\n",
       "    .dataframe tbody tr th {\n",
       "        vertical-align: top;\n",
       "    }\n",
       "\n",
       "    .dataframe thead th {\n",
       "        text-align: right;\n",
       "    }\n",
       "</style>\n",
       "<table border=\"1\" class=\"dataframe\">\n",
       "  <thead>\n",
       "    <tr style=\"text-align: right;\">\n",
       "      <th></th>\n",
       "      <th>beer_ABV</th>\n",
       "      <th>beer_beerId</th>\n",
       "      <th>beer_brewerId</th>\n",
       "      <th>beer_name</th>\n",
       "      <th>beer_style</th>\n",
       "      <th>review_appearance</th>\n",
       "      <th>review_palette</th>\n",
       "      <th>review_overall</th>\n",
       "      <th>review_taste</th>\n",
       "      <th>review_profileName</th>\n",
       "      <th>review_aroma</th>\n",
       "      <th>review_text</th>\n",
       "      <th>review_time</th>\n",
       "      <th>date</th>\n",
       "      <th>year</th>\n",
       "      <th>cleaned_text</th>\n",
       "      <th>text_sentiment_score</th>\n",
       "    </tr>\n",
       "  </thead>\n",
       "  <tbody>\n",
       "    <tr>\n",
       "      <th>0</th>\n",
       "      <td>5.0</td>\n",
       "      <td>47986</td>\n",
       "      <td>10325</td>\n",
       "      <td>Sausa Weizen</td>\n",
       "      <td>Hefeweizen</td>\n",
       "      <td>2.5</td>\n",
       "      <td>2.0</td>\n",
       "      <td>1.5</td>\n",
       "      <td>1.5</td>\n",
       "      <td>stcules</td>\n",
       "      <td>1.5</td>\n",
       "      <td>A lot of foam. But a lot. In the smell some ba...</td>\n",
       "      <td>1234817823</td>\n",
       "      <td>2009-02-16 20:57:03</td>\n",
       "      <td>2009</td>\n",
       "      <td>lot foam lot smell banana lactic tart not good...</td>\n",
       "      <td>0.1265</td>\n",
       "    </tr>\n",
       "    <tr>\n",
       "      <th>1</th>\n",
       "      <td>6.2</td>\n",
       "      <td>48213</td>\n",
       "      <td>10325</td>\n",
       "      <td>Red Moon</td>\n",
       "      <td>English Strong Ale</td>\n",
       "      <td>3.0</td>\n",
       "      <td>2.5</td>\n",
       "      <td>3.0</td>\n",
       "      <td>3.0</td>\n",
       "      <td>stcules</td>\n",
       "      <td>3.0</td>\n",
       "      <td>Dark red color, light beige foam, average. In ...</td>\n",
       "      <td>1235915097</td>\n",
       "      <td>2009-03-01 13:44:57</td>\n",
       "      <td>2009</td>\n",
       "      <td>dark red color light beige foam average smell ...</td>\n",
       "      <td>0.4588</td>\n",
       "    </tr>\n",
       "  </tbody>\n",
       "</table>\n",
       "</div>"
      ],
      "text/plain": [
       "   beer_ABV  beer_beerId  beer_brewerId     beer_name          beer_style  \\\n",
       "0       5.0        47986          10325  Sausa Weizen          Hefeweizen   \n",
       "1       6.2        48213          10325      Red Moon  English Strong Ale   \n",
       "\n",
       "   review_appearance  review_palette  review_overall  review_taste  \\\n",
       "0                2.5             2.0             1.5           1.5   \n",
       "1                3.0             2.5             3.0           3.0   \n",
       "\n",
       "  review_profileName  review_aroma  \\\n",
       "0            stcules           1.5   \n",
       "1            stcules           3.0   \n",
       "\n",
       "                                         review_text  review_time  \\\n",
       "0  A lot of foam. But a lot. In the smell some ba...   1234817823   \n",
       "1  Dark red color, light beige foam, average. In ...   1235915097   \n",
       "\n",
       "                 date  year  \\\n",
       "0 2009-02-16 20:57:03  2009   \n",
       "1 2009-03-01 13:44:57  2009   \n",
       "\n",
       "                                        cleaned_text  text_sentiment_score  \n",
       "0  lot foam lot smell banana lactic tart not good...                0.1265  \n",
       "1  dark red color light beige foam average smell ...                0.4588  "
      ]
     },
     "execution_count": 112,
     "metadata": {},
     "output_type": "execute_result"
    }
   ],
   "source": [
    "data.head(2)"
   ]
  },
  {
   "cell_type": "code",
   "execution_count": 113,
   "metadata": {},
   "outputs": [
    {
     "name": "stdout",
     "output_type": "stream",
     "text": [
      "====================================================================================================\n",
      "Overall Correlation of Review Overall between Review_Text(Sentiment_Score)\n",
      "----------------------------------------------------------------------------------------------------\n",
      "0.35463849509851525\n",
      "====================================================================================================\n"
     ]
    }
   ],
   "source": [
    "print(\"=\"*100)\n",
    "print(\"Overall Correlation of Review Overall between Review_Text(Sentiment_Score)\")\n",
    "print(\"-\"*100)\n",
    "print(data['review_overall'].corr(data['text_sentiment_score']))\n",
    "print(\"=\"*100)"
   ]
  },
  {
   "cell_type": "code",
   "execution_count": 114,
   "metadata": {},
   "outputs": [],
   "source": [
    "df_sentiment_review_style=data.groupby('beer_style')['text_sentiment_score',\n",
    "                                                     'review_overall'].mean(). \\\n",
    "                                                      sort_values(['text_sentiment_score',\n",
    "                                                                   'review_overall'],ascending=False).reset_index()"
   ]
  },
  {
   "cell_type": "code",
   "execution_count": 115,
   "metadata": {},
   "outputs": [
    {
     "data": {
      "text/html": [
       "<div>\n",
       "<style scoped>\n",
       "    .dataframe tbody tr th:only-of-type {\n",
       "        vertical-align: middle;\n",
       "    }\n",
       "\n",
       "    .dataframe tbody tr th {\n",
       "        vertical-align: top;\n",
       "    }\n",
       "\n",
       "    .dataframe thead th {\n",
       "        text-align: right;\n",
       "    }\n",
       "</style>\n",
       "<table border=\"1\" class=\"dataframe\">\n",
       "  <thead>\n",
       "    <tr style=\"text-align: right;\">\n",
       "      <th></th>\n",
       "      <th>beer_style</th>\n",
       "      <th>text_sentiment_score</th>\n",
       "      <th>review_overall</th>\n",
       "    </tr>\n",
       "  </thead>\n",
       "  <tbody>\n",
       "    <tr>\n",
       "      <th>0</th>\n",
       "      <td>Braggot</td>\n",
       "      <td>0.863941</td>\n",
       "      <td>3.645729</td>\n",
       "    </tr>\n",
       "    <tr>\n",
       "      <th>1</th>\n",
       "      <td>Quadrupel (Quad)</td>\n",
       "      <td>0.863022</td>\n",
       "      <td>4.049371</td>\n",
       "    </tr>\n",
       "  </tbody>\n",
       "</table>\n",
       "</div>"
      ],
      "text/plain": [
       "         beer_style  text_sentiment_score  review_overall\n",
       "0           Braggot              0.863941        3.645729\n",
       "1  Quadrupel (Quad)              0.863022        4.049371"
      ]
     },
     "execution_count": 115,
     "metadata": {},
     "output_type": "execute_result"
    }
   ],
   "source": [
    "df_sentiment_review_style.head(2)"
   ]
  },
  {
   "cell_type": "code",
   "execution_count": 116,
   "metadata": {},
   "outputs": [
    {
     "name": "stdout",
     "output_type": "stream",
     "text": [
      "====================================================================================================\n",
      "Correlation of Review Overall between Review_Text(Sentiment_Score) based on the Beer_Style:\n",
      "----------------------------------------------------------------------------------------------------\n",
      "0.826573074280782\n",
      "====================================================================================================\n"
     ]
    }
   ],
   "source": [
    "print(\"=\"*100)\n",
    "print(\"Correlation of Review Overall between Review_Text(Sentiment_Score) based on the Beer_Style:\")\n",
    "print(\"-\"*100)\n",
    "print(df_sentiment_review_style['review_overall'].corr(df_sentiment_review_style['text_sentiment_score']))\n",
    "print(\"=\"*100)"
   ]
  },
  {
   "cell_type": "code",
   "execution_count": 117,
   "metadata": {},
   "outputs": [
    {
     "data": {
      "image/png": "[encoded data removed]",
      "text/plain": [
       "<Figure size 576x360 with 1 Axes>"
      ]
     },
     "metadata": {},
     "output_type": "display_data"
    }
   ],
   "source": [
    "plt.figure(figsize=(8,5))\n",
    "sns.set_style(\"whitegrid\")\n",
    "sns.scatterplot(x=df_sentiment_review_style['text_sentiment_score'],\n",
    "                y=df_sentiment_review_style['review_overall'],\n",
    "                hue=df_sentiment_review_style['beer_style'],\n",
    "                s=300)\n",
    "plt.xlabel(\"text_sentiment_score\",fontsize=18)\n",
    "plt.ylabel(\"review_overall\",fontsize=18)\n",
    "plt.legend(\"\",frameon=False)\n",
    "plt.title(\"Scatter Plot of review_overall vs text_sentiment_score for beer Style\",fontsize=20)\n",
    "plt.show()"
   ]
  },
  {
   "cell_type": "markdown",
   "metadata": {},
   "source": [
    "<font color=blue>*__Observation/Conclusion__*<br>\n",
    "1. Correlation of Review Overall between Review_Text(Sentiment_Score) based on the Beer_Style:0.82657<br>\n",
    "2. From Above Scatter Plot of review_overall vs text_sentiment_score for beer Style we can say that there is signifincat linear relation between the text review & review overall  <br>\n",
    "</font>"
   ]
  },
  {
   "cell_type": "markdown",
   "metadata": {},
   "source": [
    "## 3.7: Q7- How do find similar beer drinkers by using written reviews only?"
   ]
  },
  {
   "cell_type": "code",
   "execution_count": 118,
   "metadata": {},
   "outputs": [],
   "source": [
    "data=pd.read_csv('Cleaned_Beer_Dataset.csv',encoding='latin-1')"
   ]
  },
  {
   "cell_type": "code",
   "execution_count": 119,
   "metadata": {},
   "outputs": [
    {
     "data": {
      "text/plain": [
       "Index(['Unnamed: 0', 'beer_ABV', 'beer_beerId', 'beer_brewerId', 'beer_name',\n",
       "       'beer_style', 'review_appearance', 'review_palette', 'review_overall',\n",
       "       'review_taste', 'review_profileName', 'review_aroma', 'review_text',\n",
       "       'review_time', 'cleaned_text', 'text_sentiment_score'],\n",
       "      dtype='object')"
      ]
     },
     "execution_count": 119,
     "metadata": {},
     "output_type": "execute_result"
    }
   ],
   "source": [
    "data.columns"
   ]
  },
  {
   "cell_type": "code",
   "execution_count": 120,
   "metadata": {},
   "outputs": [
    {
     "name": "stdout",
     "output_type": "stream",
     "text": [
      "Wall time: 2min 29s\n"
     ]
    },
    {
     "data": {
      "text/plain": [
       "(528636, 150420)"
      ]
     },
     "execution_count": 120,
     "metadata": {},
     "output_type": "execute_result"
    }
   ],
   "source": [
    "%%time\n",
    "from sklearn.feature_extraction.text import CountVectorizer\n",
    "count_vectorizer = CountVectorizer()\n",
    "count_vectorizer.fit(data['cleaned_text'].values)\n",
    "review_text_features=count_vectorizer.transform(data['cleaned_text'].values)\n",
    "review_text_features.get_shape() # get number of rows and columns in feature matrix."
   ]
  },
  {
   "cell_type": "code",
   "execution_count": 121,
   "metadata": {},
   "outputs": [
    {
     "data": {
      "text/plain": [
       "Index(['Unnamed: 0', 'beer_ABV', 'beer_beerId', 'beer_brewerId', 'beer_name',\n",
       "       'beer_style', 'review_appearance', 'review_palette', 'review_overall',\n",
       "       'review_taste', 'review_profileName', 'review_aroma', 'review_text',\n",
       "       'review_time', 'cleaned_text', 'text_sentiment_score'],\n",
       "      dtype='object')"
      ]
     },
     "execution_count": 121,
     "metadata": {},
     "output_type": "execute_result"
    }
   ],
   "source": [
    "data.columns"
   ]
  },
  {
   "cell_type": "code",
   "execution_count": 122,
   "metadata": {},
   "outputs": [],
   "source": [
    "from sklearn.metrics.pairwise import cosine_similarity"
   ]
  },
  {
   "cell_type": "code",
   "execution_count": 123,
   "metadata": {},
   "outputs": [],
   "source": [
    "def bag_of_words_model(doc_id, num_results):\n",
    "    \"\"\"\n",
    "    doc_id: Index of query datapoint\n",
    "    num_results: Number of Datapoints similar to the Query datapoint\n",
    "    \"\"\"\n",
    "    #the metric we used here is cosine, the coside distance is mesured as K(X, Y) = <X, Y> / (||X||*||Y||)\n",
    "    # http://scikit-learn.org/stable/modules/metrics.html#cosine-similarity\n",
    "    print('='*120)  \n",
    "    print(\"beer_beerId of Query Datapoint :\",data.iloc[doc_id]['beer_beerId'])\n",
    "    print('-'*120)\n",
    "    print(\"beer_name of Query Datapoint:\",data.iloc[doc_id]['beer_name'])\n",
    "    print('-'*120)\n",
    "    print(\"Review Text of Query Datapoint :\",data.iloc[doc_id]['cleaned_text'])\n",
    "    print('='*120) \n",
    "    pairwise_dist = cosine_similarity(review_text_features,review_text_features[doc_id])\n",
    "    \n",
    "    # np.argsort will return indices of the smallest distances\n",
    "    indices = np.argsort(pairwise_dist.flatten())[::-1][0:num_results]\n",
    "    #pdists will store the smallest distances\n",
    "    pdists  = np.sort(pairwise_dist.flatten())[::-1][0:num_results]    \n",
    "    df_indices = list(data.index[indices])\n",
    "    \n",
    "    for i in range(0,len(indices)):        \n",
    "        print('beer_beerId of Similar Datapoint:',data['beer_beerId'].loc[df_indices[i]])\n",
    "        print('-'*120)\n",
    "        print ('beer_nameof Similar Datapoint:', data['beer_name'].loc[df_indices[i]])\n",
    "        print('-'*120)\n",
    "        print ('review_text of Similar Datapoint:', data['cleaned_text'].loc[df_indices[i]])\n",
    "        print('-'*120)\n",
    "        print ('Cosine similarity with the query point',pdists[i])\n",
    "        print('='*120)"
   ]
  },
  {
   "cell_type": "code",
   "execution_count": 124,
   "metadata": {},
   "outputs": [
    {
     "name": "stdout",
     "output_type": "stream",
     "text": [
      "========================================================================================================================\n",
      "beer_beerId of Query Datapoint : 33624\n",
      "------------------------------------------------------------------------------------------------------------------------\n",
      "beer_name of Query Datapoint: Hoppin' To Heaven IPA\n",
      "------------------------------------------------------------------------------------------------------------------------\n",
      "Review Text of Query Datapoint : got de bierkoning amsterdam bomber snifter appearance pours bit 3 finger thick tight white head great retention perfectly clear higher active levels carbonation burnt orange color head slowly fades thick foam cap stays leaves lots nice lacing glass looks great way smell decent strength nose pale toasted malts citrus grapefruit hints lemon floral notes taste interesting spin one hops esters seem come front bitter grapefruit citrus lemon sweet malt shows middle caramel mostly pale toasted malts biscuit well good dose bitter floral hops finishes beginning middle seem backwards aftertaste bitter sweet lots pine grapefruit notes pretty good palate medium body medium carbonation creamy smooth palate goes smooth finishes rather sticky mouth coating not bad overall balanced ipa good amount malt sweetness balance nice hop profile glad found one fuller palate would help get one hump accentuate taste profile better non less good beer\n",
      "========================================================================================================================\n",
      "beer_beerId of Similar Datapoint: 33624\n",
      "------------------------------------------------------------------------------------------------------------------------\n",
      "beer_nameof Similar Datapoint: Hoppin' To Heaven IPA\n",
      "------------------------------------------------------------------------------------------------------------------------\n",
      "review_text of Similar Datapoint: got de bierkoning amsterdam bomber snifter appearance pours bit 3 finger thick tight white head great retention perfectly clear higher active levels carbonation burnt orange color head slowly fades thick foam cap stays leaves lots nice lacing glass looks great way smell decent strength nose pale toasted malts citrus grapefruit hints lemon floral notes taste interesting spin one hops esters seem come front bitter grapefruit citrus lemon sweet malt shows middle caramel mostly pale toasted malts biscuit well good dose bitter floral hops finishes beginning middle seem backwards aftertaste bitter sweet lots pine grapefruit notes pretty good palate medium body medium carbonation creamy smooth palate goes smooth finishes rather sticky mouth coating not bad overall balanced ipa good amount malt sweetness balance nice hop profile glad found one fuller palate would help get one hump accentuate taste profile better non less good beer\n",
      "------------------------------------------------------------------------------------------------------------------------\n",
      "Cosine similarity with the query point 1.0\n",
      "========================================================================================================================\n",
      "beer_beerId of Similar Datapoint: 47647\n",
      "------------------------------------------------------------------------------------------------------------------------\n",
      "beer_nameof Similar Datapoint: YuleSmith (Winter)\n",
      "------------------------------------------------------------------------------------------------------------------------\n",
      "review_text of Similar Datapoint: got de bierkoning amsterdam bomber snifter appearance thick looking one finger white head good retention color deep burnt umber brown little carbonation evident head slowly fades decent film thick ring splotchy film remains end leaves good lacing sides nice color well smell decent strength nose pale toasted malt biscuit hints caramel toffee notes good hop presence hints grapefruit pine sweet citrus fruits well nice taste taste follows nose nicely pale toasted malt caramel toffee notes hop profile grapefruit pine flavors really nice spiciness end clove coriander tyme perhaps well spicy alcohol finish bitter ending story leading long bold aftertaste bitter spicy hops sweet malty biscuit finish fantastic palate medium body medium carbonation creamy smooth palate goes smooth finishes touch dryness palate no bite end abv not noticeable good overall outstanding beer couple alesmith impressive say least like bottle says really deliciously malty hoppy drinkable enjoyable balanced brew one better beers ever recommended\n",
      "------------------------------------------------------------------------------------------------------------------------\n",
      "Cosine similarity with the query point 0.6245021436316043\n",
      "========================================================================================================================\n",
      "beer_beerId of Similar Datapoint: 5441\n",
      "------------------------------------------------------------------------------------------------------------------------\n",
      "beer_nameof Similar Datapoint: Founders Centennial IPA\n",
      "------------------------------------------------------------------------------------------------------------------------\n",
      "review_text of Similar Datapoint: got de bierkoning amsterdam bottle snifter appearance pours two finger medium thick looking white head great retention mahogany tawny orange color clear medium carbonation evident head slowly fades good film cap bubbly frothy ring splotchy wisp remains end leaves lacing sides smell pale toasted malt good dose citrus grapefruit hops notes lemon faint touches pine well decent strength well taste pale toasted malt mild grapefruit piney hops though middle not bold nose suggested moves bitter piney hop aftertaste quite bold long lasting not much malt sweetness one really aftertaste definitely bolder impressive initial taste palate medium body creamy smooth palate goes smooth no bite finishes slightly dry palate nice feel overall good ipa sure quite drinkable well unfortunately initial taste lacked somewhat not get malt backbone reviewers allude one like milder version double trouble ask not necessary good beer not one worth writing home\n",
      "------------------------------------------------------------------------------------------------------------------------\n",
      "Cosine similarity with the query point 0.6210590034081188\n",
      "========================================================================================================================\n",
      "beer_beerId of Similar Datapoint: 22505\n",
      "------------------------------------------------------------------------------------------------------------------------\n",
      "beer_nameof Similar Datapoint: Green Flash West Coast I.P.A.\n",
      "------------------------------------------------------------------------------------------------------------------------\n",
      "review_text of Similar Datapoint: got de cracked kettle amsterdam bottle snifter appearance pours big three finger thicker perfectly white head great retention tawny burnt orange color medium levels carbonation evident head slowly recedes thick healthy foam cap good film stays end leaves lots nice lacing glass looks really good smell pine floral notes hints citrus pale malts noticeable little muted liking fine not bold enough taste flavors definitely bolder pale malts lots hops everywhere pine floral notes citrus light grapefruit flavors finishes lots bitterness well bold lingering aftertaste plenty bitter pine citrus notes hoppy bitter much impressive nose palate medium light body medium carbonation creamy smooth palate goes smooth finishes nicely mouth coating overall another good offering green flash nose gave worries would not quite deliver punch flavors definitely came end good looking beer lots flavor recommended\n",
      "------------------------------------------------------------------------------------------------------------------------\n",
      "Cosine similarity with the query point 0.6168577597152108\n",
      "========================================================================================================================\n",
      "beer_beerId of Similar Datapoint: 33243\n",
      "------------------------------------------------------------------------------------------------------------------------\n",
      "beer_nameof Similar Datapoint: Wipeout I.P.A.\n",
      "------------------------------------------------------------------------------------------------------------------------\n",
      "review_text of Similar Datapoint: found de bierkoning amsterdam bomber snifter appearance pours two finger thicker looking white head great retention color persian reddish brown gamboge held light clear no visible carbonation head slowly fades good film leaves immediate lacing wisp remains notil end leaves great lacing glass good looking head beautiful lacing though color not absolute favorite smell bold smell already toasted pale malt grapefruit pine citrus notes background nice floral notes well hoppy grapefruit flowers bold nice exploded glass taste pale toasted malt beginning lots hoppy grapefruit pine notes well flowery hops middle end touch spiciness alcohol delayed mild good bitter hop punch end rides strong long lasting aftertaste good not quite bold nose strange finish little disappearing act aftertaste shows vengeance palate medium body medium carbonation semi creamy palate goes pretty smooth no bite finishes somewhat mouth coating palate could little creamier pretty fine whole overall good ipa bigger nose taste profile lot others style drinkable brew thoroughly enjoyed recommended\n",
      "------------------------------------------------------------------------------------------------------------------------\n",
      "Cosine similarity with the query point 0.6086053178377864\n",
      "========================================================================================================================\n",
      "Wall time: 2.01 s\n"
     ]
    }
   ],
   "source": [
    "%%time\n",
    "bag_of_words_model(4000, 5)"
   ]
  },
  {
   "cell_type": "markdown",
   "metadata": {},
   "source": [
    "<font color=blue>*__Observation/Conclusion__*<br>\n",
    "1. For review text Similarity, Text is converted into BOW representation. <br>\n",
    "2. Then cosine Similarity is calculated between the Query point & other Datapoint. <br>\n",
    "3. For beerId of Query Datapoint : 33624 most similar datapoint is<br> beer_beerId : 47647 & beer_name: YuleSmith (Winter) <br>\n",
    "</font>\n",
    "<font color=red> **__Note:__** <br>(Approach 2):We can use Semantic Based Text Vectorizer for text Featurization like *__W2V__* , *__Sentence_Transformers__* & to reduce the time Complexity we can use *__FAISS__* similarity search<br></font>"
   ]
  }
 ],
 "metadata": {
  "kernelspec": {
   "display_name": "Python 3",
   "language": "python",
   "name": "python3"
  },
  "language_info": {
   "codemirror_mode": {
    "name": "ipython",
    "version": 3
   },
   "file_extension": ".py",
   "mimetype": "text/x-python",
   "name": "python",
   "nbconvert_exporter": "python",
   "pygments_lexer": "ipython3",
   "version": "3.7.6"
  }
 },
 "nbformat": 4,
 "nbformat_minor": 4
}
